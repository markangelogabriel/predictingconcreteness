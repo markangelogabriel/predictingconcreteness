{
 "cells": [
  {
   "cell_type": "code",
   "execution_count": 46,
   "metadata": {},
   "outputs": [],
   "source": [
    "import numpy as np\n",
    "import pandas as pd\n",
    "import seaborn as sns\n",
    "import matplotlib.pyplot as plt\n",
    "\n",
    "df = pd.read_csv('../data/Concrete_Discrete_16032021.csv')"
   ]
  },
  {
   "cell_type": "code",
   "execution_count": 49,
   "metadata": {},
   "outputs": [
    {
     "data": {
      "text/plain": [
       "2.5"
      ]
     },
     "execution_count": 49,
     "metadata": {},
     "output_type": "execute_result"
    }
   ],
   "source": [
    "df['Concrete'][0]"
   ]
  },
  {
   "cell_type": "code",
   "execution_count": 40,
   "metadata": {},
   "outputs": [],
   "source": [
    "def discretize(score, lowCutoff, medCutoff):\n",
    "    category=''\n",
    "    \n",
    "    if(score<=lowCutoff):\n",
    "        category='Low'\n",
    "    elif(score<=medCutoff):\n",
    "        category='Medium'\n",
    "    else:\n",
    "        category='High'\n",
    "        \n",
    "    return category"
   ]
  },
  {
   "cell_type": "code",
   "execution_count": 41,
   "metadata": {},
   "outputs": [
    {
     "data": {
      "text/plain": [
       "<AxesSubplot:xlabel='Concrete', ylabel='count'>"
      ]
     },
     "execution_count": 41,
     "metadata": {},
     "output_type": "execute_result"
    },
    {
     "data": {
      "image/png": "[encoded data removed]",
      "text/plain": [
       "<Figure size 432x288 with 1 Axes>"
      ]
     },
     "metadata": {
      "needs_background": "light"
     },
     "output_type": "display_data"
    }
   ],
   "source": [
    "sns.countplot(x ='Concrete', data = df)pa"
   ]
  },
  {
   "cell_type": "code",
   "execution_count": 31,
   "metadata": {},
   "outputs": [
    {
     "name": "stdout",
     "output_type": "stream",
     "text": [
      "      Unnamed: 0  Unnamed: 0.1  Image_Action.x  Image_People.x  \\\n",
      "0              0             0             1.0             3.0   \n",
      "1              1             1             2.0             4.0   \n",
      "2              2             2             1.0             2.0   \n",
      "3              3             3             1.0             3.0   \n",
      "4              4             4             1.0             3.0   \n",
      "...          ...           ...             ...             ...   \n",
      "1231        1231          1231             3.0             4.0   \n",
      "1232        1232          1232             3.0             3.0   \n",
      "1233        1233          1233             NaN             NaN   \n",
      "1234        1234          1234             3.0             4.0   \n",
      "1235        1235          1235             1.0             1.0   \n",
      "\n",
      "      Image_Emotion.x  Image_Vivid.x  Image_Scenes.x  \\\n",
      "0                 3.0            3.0             3.0   \n",
      "1                 3.0            4.0             4.0   \n",
      "2                 1.0            1.0             1.0   \n",
      "3                 3.0            3.0             4.0   \n",
      "4                 3.0            2.0             1.0   \n",
      "...               ...            ...             ...   \n",
      "1231              4.0            2.0             3.0   \n",
      "1232              4.0            3.0             3.0   \n",
      "1233              NaN            NaN             NaN   \n",
      "1234              2.0            3.0             4.0   \n",
      "1235              3.0            3.0             0.0   \n",
      "\n",
      "                                             Response.x  Steps  Effective  \\\n",
      "0     I would come up with some possible suggestions...    1.5        2.5   \n",
      "1     I would think of a close friend or family memb...    1.0        1.0   \n",
      "2     Make a plan to reach out to friends and family...    1.5        2.0   \n",
      "3     I would firstly engage in having a coffee with...    1.5        2.0   \n",
      "4     This morning I feel lonely as I haven't seen a...    2.0        1.5   \n",
      "...                                                 ...    ...        ...   \n",
      "1231  I would like to study overseas. \\nThe story be...    0.5        3.0   \n",
      "1232  I would make a plan of how to daily connect wi...    2.5        2.5   \n",
      "1233                                                NaN    0.0        0.0   \n",
      "1234  Contact a friend by phone. Find number, call f...    1.5        1.5   \n",
      "1235  I love to be with friends and because of the c...    1.5        1.5   \n",
      "\n",
      "      ...  Concrete.HighCount  Concrete.HighDensity  Concrete.ExtremeCount  \\\n",
      "0     ...                  32              0.201258                     12   \n",
      "1     ...                  28              0.291667                      9   \n",
      "2     ...                   8              0.258065                      2   \n",
      "3     ...                  20              0.256410                      6   \n",
      "4     ...                  46              0.272189                     14   \n",
      "...   ...                 ...                   ...                    ...   \n",
      "1231  ...                   5              0.217391                      0   \n",
      "1232  ...                  24              0.171429                      7   \n",
      "1233  ...                   0              0.000000                      0   \n",
      "1234  ...                  20              0.384615                      6   \n",
      "1235  ...                  21              0.177966                      3   \n",
      "\n",
      "      Concrete.ExtremeDensity Concrete.BigramHighCount WordCount  \\\n",
      "0                    0.075472                        0       159   \n",
      "1                    0.093750                        1        96   \n",
      "2                    0.064516                        1        31   \n",
      "3                    0.076923                        0        78   \n",
      "4                    0.082840                        0       169   \n",
      "...                       ...                      ...       ...   \n",
      "1231                 0.000000                        0        23   \n",
      "1232                 0.050000                        0       140   \n",
      "1233                 0.000000                        0         0   \n",
      "1234                 0.115385                        1        52   \n",
      "1235                 0.025424                        0       118   \n",
      "\n",
      "     Concrete.Level Concrete.Low Concrete.Medium Concrete.High  \n",
      "0              High            0               0             1  \n",
      "1            Medium            0               1             0  \n",
      "2            Medium            0               1             0  \n",
      "3            Medium            0               1             0  \n",
      "4            Medium            0               1             0  \n",
      "...             ...          ...             ...           ...  \n",
      "1231            Low            1               0             0  \n",
      "1232           High            0               0             1  \n",
      "1233            Low            1               0             0  \n",
      "1234            Low            1               0             0  \n",
      "1235         Medium            0               1             0  \n",
      "\n",
      "[1236 rows x 52 columns]\n"
     ]
    }
   ],
   "source": [
    "df['Concrete.Level'] = [discretize(x, 1.25, 2) for x in df['Concrete']]\n",
    "df['Concrete.Low'] = [1 if x=='Low' else 0 for x in df['Concrete.Level']]\n",
    "df['Concrete.Medium'] = [1 if x=='Medium' else 0 for x in df['Concrete.Level']]\n",
    "df['Concrete.High'] = [1 if x=='High' else 0 for x in df['Concrete.Level']]\n",
    "\n",
    "print(df)"
   ]
  },
  {
   "cell_type": "code",
   "execution_count": 42,
   "metadata": {},
   "outputs": [
    {
     "data": {
      "text/plain": [
       "<AxesSubplot:xlabel='Concrete.Level', ylabel='count'>"
      ]
     },
     "execution_count": 42,
     "metadata": {},
     "output_type": "execute_result"
    },
    {
     "data": {
      "image/png": "[encoded data removed]",
      "text/plain": [
       "<Figure size 432x288 with 1 Axes>"
      ]
     },
     "metadata": {
      "needs_background": "light"
     },
     "output_type": "display_data"
    }
   ],
   "source": [
    "sns.countplot(x ='Concrete.Level', data = df)"
   ]
  },
  {
   "cell_type": "code",
   "execution_count": 44,
   "metadata": {},
   "outputs": [
    {
     "name": "stdout",
     "output_type": "stream",
     "text": [
      "      Image_Action.x  Image_People.x  Image_Emotion.x  Image_Vivid.x  \\\n",
      "0                1.0             3.0              3.0            3.0   \n",
      "1                2.0             4.0              3.0            4.0   \n",
      "2                1.0             2.0              1.0            1.0   \n",
      "3                1.0             3.0              3.0            3.0   \n",
      "4                1.0             3.0              3.0            2.0   \n",
      "...              ...             ...              ...            ...   \n",
      "1231             3.0             4.0              4.0            2.0   \n",
      "1232             3.0             3.0              4.0            3.0   \n",
      "1233             NaN             NaN              NaN            NaN   \n",
      "1234             3.0             4.0              2.0            3.0   \n",
      "1235             1.0             1.0              3.0            3.0   \n",
      "\n",
      "      Image_Scenes.x                                         Response.x  \\\n",
      "0                3.0  I would come up with some possible suggestions...   \n",
      "1                4.0  I would think of a close friend or family memb...   \n",
      "2                1.0  Make a plan to reach out to friends and family...   \n",
      "3                4.0  I would firstly engage in having a coffee with...   \n",
      "4                1.0  This morning I feel lonely as I haven't seen a...   \n",
      "...              ...                                                ...   \n",
      "1231             3.0  I would like to study overseas. \\nThe story be...   \n",
      "1232             3.0  I would make a plan of how to daily connect wi...   \n",
      "1233             NaN                                                NaN   \n",
      "1234             4.0  Contact a friend by phone. Find number, call f...   \n",
      "1235             0.0  I love to be with friends and because of the c...   \n",
      "\n",
      "      Steps  Effective  Concrete  Emotion  ...  Concrete.HighCount  \\\n",
      "0       1.5        2.5       2.5      2.5  ...                  32   \n",
      "1       1.0        1.0       1.5      1.5  ...                  28   \n",
      "2       1.5        2.0       1.5      1.5  ...                   8   \n",
      "3       1.5        2.0       2.0      2.0  ...                  20   \n",
      "4       2.0        1.5       2.0      1.5  ...                  46   \n",
      "...     ...        ...       ...      ...  ...                 ...   \n",
      "1231    0.5        3.0       1.0      3.0  ...                   5   \n",
      "1232    2.5        2.5       2.5      2.5  ...                  24   \n",
      "1233    0.0        0.0       0.0      0.0  ...                   0   \n",
      "1234    1.5        1.5       1.0      1.5  ...                  20   \n",
      "1235    1.5        1.5       2.0      1.5  ...                  21   \n",
      "\n",
      "      Concrete.HighDensity Concrete.ExtremeCount Concrete.ExtremeDensity  \\\n",
      "0                 0.201258                    12                0.075472   \n",
      "1                 0.291667                     9                0.093750   \n",
      "2                 0.258065                     2                0.064516   \n",
      "3                 0.256410                     6                0.076923   \n",
      "4                 0.272189                    14                0.082840   \n",
      "...                    ...                   ...                     ...   \n",
      "1231              0.217391                     0                0.000000   \n",
      "1232              0.171429                     7                0.050000   \n",
      "1233              0.000000                     0                0.000000   \n",
      "1234              0.384615                     6                0.115385   \n",
      "1235              0.177966                     3                0.025424   \n",
      "\n",
      "     Concrete.BigramHighCount WordCount Concrete.Level Concrete.Low  \\\n",
      "0                           0       159           High            0   \n",
      "1                           1        96         Medium            0   \n",
      "2                           1        31         Medium            0   \n",
      "3                           0        78         Medium            0   \n",
      "4                           0       169         Medium            0   \n",
      "...                       ...       ...            ...          ...   \n",
      "1231                        0        23            Low            1   \n",
      "1232                        0       140           High            0   \n",
      "1233                        0         0            Low            1   \n",
      "1234                        1        52            Low            1   \n",
      "1235                        0       118         Medium            0   \n",
      "\n",
      "     Concrete.Medium  Concrete.High  \n",
      "0                  0              1  \n",
      "1                  1              0  \n",
      "2                  1              0  \n",
      "3                  1              0  \n",
      "4                  1              0  \n",
      "...              ...            ...  \n",
      "1231               0              0  \n",
      "1232               0              1  \n",
      "1233               0              0  \n",
      "1234               0              0  \n",
      "1235               1              0  \n",
      "\n",
      "[1236 rows x 50 columns]\n"
     ]
    }
   ],
   "source": [
    "df.drop(labels=df.columns[0], axis=1, inplace=True)\n",
    "print(df)"
   ]
  },
  {
   "cell_type": "code",
   "execution_count": 45,
   "metadata": {},
   "outputs": [],
   "source": [
    "df.to_csv('../data/Concrete_Discrete_16032021.csv', index=False)"
   ]
  },
  {
   "cell_type": "code",
   "execution_count": null,
   "metadata": {},
   "outputs": [],
   "source": []
  }
 ],
 "metadata": {
  "kernelspec": {
   "display_name": "Python 3",
   "language": "python",
   "name": "python3"
  },
  "language_info": {
   "codemirror_mode": {
    "name": "ipython",
    "version": 3
   },
   "file_extension": ".py",
   "mimetype": "text/x-python",
   "name": "python",
   "nbconvert_exporter": "python",
   "pygments_lexer": "ipython3",
   "version": "3.8.5"
  }
 },
 "nbformat": 4,
 "nbformat_minor": 4
}
