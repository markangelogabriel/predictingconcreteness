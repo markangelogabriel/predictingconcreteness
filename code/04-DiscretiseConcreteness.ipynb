{
 "cells": [
  {
   "cell_type": "code",
   "execution_count": 16,
   "metadata": {},
   "outputs": [],
   "source": [
    "import numpy as np\n",
    "import pandas as pd\n",
    "import seaborn as sns\n",
    "import matplotlib.pyplot as plt\n",
    "\n",
    "#df = pd.read_csv('../data/old/Concrete_Discrete_16032021.csv')\n",
    "df = pd.read_csv('../data/Concrete_FixedMIPs_28042021.csv')"
   ]
  },
  {
   "cell_type": "code",
   "execution_count": 17,
   "metadata": {},
   "outputs": [
    {
     "data": {
      "text/plain": [
       "count    1232.000000\n",
       "mean        1.559253\n",
       "std         1.031510\n",
       "min         0.000000\n",
       "25%         1.000000\n",
       "50%         1.500000\n",
       "75%         2.000000\n",
       "max         5.000000\n",
       "Name: Concrete, dtype: float64"
      ]
     },
     "execution_count": 17,
     "metadata": {},
     "output_type": "execute_result"
    }
   ],
   "source": [
    "df['Concrete'].describe()"
   ]
  },
  {
   "cell_type": "code",
   "execution_count": 14,
   "metadata": {},
   "outputs": [],
   "source": [
    "def discretize(score, lowCutoff, medCutoff):\n",
    "    category=''\n",
    "    \n",
    "    if(score<=lowCutoff):\n",
    "        category='Low'\n",
    "    elif(score<=medCutoff):\n",
    "        category='Medium'\n",
    "    else:\n",
    "        category='High'\n",
    "        \n",
    "    return category"
   ]
  },
  {
   "cell_type": "code",
   "execution_count": 15,
   "metadata": {},
   "outputs": [
    {
     "data": {
      "text/plain": [
       "<AxesSubplot:xlabel='Concrete', ylabel='count'>"
      ]
     },
     "execution_count": 15,
     "metadata": {},
     "output_type": "execute_result"
    },
    {
     "data": {
      "image/png": "[encoded data removed]",
      "text/plain": [
       "<Figure size 432x288 with 1 Axes>"
      ]
     },
     "metadata": {
      "needs_background": "light"
     },
     "output_type": "display_data"
    }
   ],
   "source": [
    "sns.countplot(x ='Concrete', data = df)"
   ]
  },
  {
   "cell_type": "code",
   "execution_count": 7,
   "metadata": {},
   "outputs": [
    {
     "name": "stdout",
     "output_type": "stream",
     "text": [
      "      Image_Action.x  Image_People.x  Image_Emotion.x  Image_Vivid.x  \\\n",
      "0                1.0             3.0              3.0            3.0   \n",
      "1                2.0             4.0              3.0            4.0   \n",
      "2                1.0             2.0              1.0            1.0   \n",
      "3                1.0             3.0              3.0            3.0   \n",
      "4                1.0             3.0              3.0            2.0   \n",
      "...              ...             ...              ...            ...   \n",
      "1227             3.0             4.0              4.0            2.0   \n",
      "1228             3.0             3.0              4.0            3.0   \n",
      "1229             NaN             NaN              NaN            NaN   \n",
      "1230             3.0             4.0              2.0            3.0   \n",
      "1231             1.0             1.0              3.0            3.0   \n",
      "\n",
      "      Image_Scenes.x                                         Response.x  \\\n",
      "0                3.0  I would come up with some possible suggestions...   \n",
      "1                4.0  I would think of a close friend or family memb...   \n",
      "2                1.0  Make a plan to reach out to friends and family...   \n",
      "3                4.0  I would firstly engage in having a coffee with...   \n",
      "4                1.0  This morning I feel lonely as I haven't seen a...   \n",
      "...              ...                                                ...   \n",
      "1227             3.0  I would like to study overseas. \\nThe story be...   \n",
      "1228             3.0  I would make a plan of how to daily connect wi...   \n",
      "1229             NaN                                                NaN   \n",
      "1230             4.0  Contact a friend by phone. Find number, call f...   \n",
      "1231             0.0  I love to be with friends and because of the c...   \n",
      "\n",
      "      Steps  Effective  Concrete  Emotion  ...  Concrete.HighCount  \\\n",
      "0         3        2.5       2.5      2.5  ...                  32   \n",
      "1         2        1.0       1.5      1.5  ...                  28   \n",
      "2         3        2.0       1.5      1.5  ...                   8   \n",
      "3         3        2.0       2.0      2.0  ...                  20   \n",
      "4         4        1.5       2.0      1.5  ...                  46   \n",
      "...     ...        ...       ...      ...  ...                 ...   \n",
      "1227      1        3.0       1.0      3.0  ...                   5   \n",
      "1228      5        2.5       2.5      2.5  ...                  24   \n",
      "1229      0        0.0       0.0      0.0  ...                   0   \n",
      "1230      3        1.5       1.0      1.5  ...                  20   \n",
      "1231      3        1.5       2.0      1.5  ...                  21   \n",
      "\n",
      "      Concrete.HighDensity Concrete.ExtremeCount Concrete.ExtremeDensity  \\\n",
      "0                 0.201258                    12                0.075472   \n",
      "1                 0.291667                     9                0.093750   \n",
      "2                 0.258065                     2                0.064516   \n",
      "3                 0.256410                     6                0.076923   \n",
      "4                 0.272189                    14                0.082840   \n",
      "...                    ...                   ...                     ...   \n",
      "1227              0.217391                     0                0.000000   \n",
      "1228              0.171429                     7                0.050000   \n",
      "1229              0.000000                     0                0.000000   \n",
      "1230              0.384615                     6                0.115385   \n",
      "1231              0.177966                     3                0.025424   \n",
      "\n",
      "     Concrete.BigramHighCount WordCount Concrete.Level Concrete.Low  \\\n",
      "0                           0       159           High            0   \n",
      "1                           1        96         Medium            0   \n",
      "2                           1        31         Medium            0   \n",
      "3                           0        78         Medium            0   \n",
      "4                           0       169         Medium            0   \n",
      "...                       ...       ...            ...          ...   \n",
      "1227                        0        23            Low            1   \n",
      "1228                        0       140           High            0   \n",
      "1229                        0         0            Low            1   \n",
      "1230                        1        52            Low            1   \n",
      "1231                        0       118         Medium            0   \n",
      "\n",
      "     Concrete.Medium  Concrete.High  \n",
      "0                  0              1  \n",
      "1                  1              0  \n",
      "2                  1              0  \n",
      "3                  1              0  \n",
      "4                  1              0  \n",
      "...              ...            ...  \n",
      "1227               0              0  \n",
      "1228               0              1  \n",
      "1229               0              0  \n",
      "1230               0              0  \n",
      "1231               1              0  \n",
      "\n",
      "[1232 rows x 50 columns]\n"
     ]
    }
   ],
   "source": [
    "df['Concrete.Level'] = [discretize(x, 1.25, 2) for x in df['Concrete']]\n",
    "df['Concrete.Low'] = [1 if x=='Low' else 0 for x in df['Concrete.Level']]\n",
    "df['Concrete.Medium'] = [1 if x=='Medium' else 0 for x in df['Concrete.Level']]\n",
    "df['Concrete.High'] = [1 if x=='High' else 0 for x in df['Concrete.Level']]\n",
    "\n",
    "print(df)"
   ]
  },
  {
   "cell_type": "code",
   "execution_count": 8,
   "metadata": {},
   "outputs": [
    {
     "data": {
      "text/plain": [
       "<AxesSubplot:xlabel='Concrete.Level', ylabel='count'>"
      ]
     },
     "execution_count": 8,
     "metadata": {},
     "output_type": "execute_result"
    },
    {
     "data": {
      "image/png": "[encoded data removed]",
      "text/plain": [
       "<Figure size 432x288 with 1 Axes>"
      ]
     },
     "metadata": {
      "needs_background": "light"
     },
     "output_type": "display_data"
    }
   ],
   "source": [
    "sns.countplot(x ='Concrete.Level', data = df)"
   ]
  },
  {
   "cell_type": "code",
   "execution_count": 44,
   "metadata": {},
   "outputs": [
    {
     "name": "stdout",
     "output_type": "stream",
     "text": [
      "      Image_Action.x  Image_People.x  Image_Emotion.x  Image_Vivid.x  \\\n",
      "0                1.0             3.0              3.0            3.0   \n",
      "1                2.0             4.0              3.0            4.0   \n",
      "2                1.0             2.0              1.0            1.0   \n",
      "3                1.0             3.0              3.0            3.0   \n",
      "4                1.0             3.0              3.0            2.0   \n",
      "...              ...             ...              ...            ...   \n",
      "1231             3.0             4.0              4.0            2.0   \n",
      "1232             3.0             3.0              4.0            3.0   \n",
      "1233             NaN             NaN              NaN            NaN   \n",
      "1234             3.0             4.0              2.0            3.0   \n",
      "1235             1.0             1.0              3.0            3.0   \n",
      "\n",
      "      Image_Scenes.x                                         Response.x  \\\n",
      "0                3.0  I would come up with some possible suggestions...   \n",
      "1                4.0  I would think of a close friend or family memb...   \n",
      "2                1.0  Make a plan to reach out to friends and family...   \n",
      "3                4.0  I would firstly engage in having a coffee with...   \n",
      "4                1.0  This morning I feel lonely as I haven't seen a...   \n",
      "...              ...                                                ...   \n",
      "1231             3.0  I would like to study overseas. \\nThe story be...   \n",
      "1232             3.0  I would make a plan of how to daily connect wi...   \n",
      "1233             NaN                                                NaN   \n",
      "1234             4.0  Contact a friend by phone. Find number, call f...   \n",
      "1235             0.0  I love to be with friends and because of the c...   \n",
      "\n",
      "      Steps  Effective  Concrete  Emotion  ...  Concrete.HighCount  \\\n",
      "0       1.5        2.5       2.5      2.5  ...                  32   \n",
      "1       1.0        1.0       1.5      1.5  ...                  28   \n",
      "2       1.5        2.0       1.5      1.5  ...                   8   \n",
      "3       1.5        2.0       2.0      2.0  ...                  20   \n",
      "4       2.0        1.5       2.0      1.5  ...                  46   \n",
      "...     ...        ...       ...      ...  ...                 ...   \n",
      "1231    0.5        3.0       1.0      3.0  ...                   5   \n",
      "1232    2.5        2.5       2.5      2.5  ...                  24   \n",
      "1233    0.0        0.0       0.0      0.0  ...                   0   \n",
      "1234    1.5        1.5       1.0      1.5  ...                  20   \n",
      "1235    1.5        1.5       2.0      1.5  ...                  21   \n",
      "\n",
      "      Concrete.HighDensity Concrete.ExtremeCount Concrete.ExtremeDensity  \\\n",
      "0                 0.201258                    12                0.075472   \n",
      "1                 0.291667                     9                0.093750   \n",
      "2                 0.258065                     2                0.064516   \n",
      "3                 0.256410                     6                0.076923   \n",
      "4                 0.272189                    14                0.082840   \n",
      "...                    ...                   ...                     ...   \n",
      "1231              0.217391                     0                0.000000   \n",
      "1232              0.171429                     7                0.050000   \n",
      "1233              0.000000                     0                0.000000   \n",
      "1234              0.384615                     6                0.115385   \n",
      "1235              0.177966                     3                0.025424   \n",
      "\n",
      "     Concrete.BigramHighCount WordCount Concrete.Level Concrete.Low  \\\n",
      "0                           0       159           High            0   \n",
      "1                           1        96         Medium            0   \n",
      "2                           1        31         Medium            0   \n",
      "3                           0        78         Medium            0   \n",
      "4                           0       169         Medium            0   \n",
      "...                       ...       ...            ...          ...   \n",
      "1231                        0        23            Low            1   \n",
      "1232                        0       140           High            0   \n",
      "1233                        0         0            Low            1   \n",
      "1234                        1        52            Low            1   \n",
      "1235                        0       118         Medium            0   \n",
      "\n",
      "     Concrete.Medium  Concrete.High  \n",
      "0                  0              1  \n",
      "1                  1              0  \n",
      "2                  1              0  \n",
      "3                  1              0  \n",
      "4                  1              0  \n",
      "...              ...            ...  \n",
      "1231               0              0  \n",
      "1232               0              1  \n",
      "1233               0              0  \n",
      "1234               0              0  \n",
      "1235               1              0  \n",
      "\n",
      "[1236 rows x 50 columns]\n"
     ]
    }
   ],
   "source": [
    "df.drop(labels=df.columns[0], axis=1, inplace=True)\n",
    "print(df)"
   ]
  },
  {
   "cell_type": "code",
   "execution_count": 45,
   "metadata": {},
   "outputs": [],
   "source": [
    "df.to_csv('../data/Concrete_Discrete_16032021.csv', index=False)"
   ]
  },
  {
   "cell_type": "code",
   "execution_count": null,
   "metadata": {},
   "outputs": [],
   "source": []
  }
 ],
 "metadata": {
  "kernelspec": {
   "display_name": "Python 3",
   "language": "python",
   "name": "python3"
  },
  "language_info": {
   "codemirror_mode": {
    "name": "ipython",
    "version": 3
   },
   "file_extension": ".py",
   "mimetype": "text/x-python",
   "name": "python",
   "nbconvert_exporter": "python",
   "pygments_lexer": "ipython3",
   "version": "3.8.8"
  }
 },
 "nbformat": 4,
 "nbformat_minor": 4
}
