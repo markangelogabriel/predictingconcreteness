{
 "cells": [
  {
   "cell_type": "markdown",
   "metadata": {
    "id": "KAe2ZtS3d8Tg"
   },
   "source": [
    "Copied from: https://curiousily.com/posts/sentiment-analysis-with-bert-and-hugging-face-using-pytorch-and-python/"
   ]
  },
  {
   "cell_type": "code",
   "execution_count": 1,
   "metadata": {},
   "outputs": [],
   "source": [
    "import transformers\n",
    "from transformers import BertModel, BertTokenizer, AdamW, get_linear_schedule_with_warmup\n",
    "import torch\n",
    "import numpy as np\n",
    "import pandas as pd\n",
    "import seaborn as sns\n",
    "from pylab import rcParams\n",
    "import matplotlib.pyplot as plt\n",
    "from matplotlib import rc\n",
    "from sklearn.model_selection import train_test_split\n",
    "from sklearn.metrics import confusion_matrix, classification_report\n",
    "from collections import defaultdict\n",
    "from textwrap import wrap\n",
    "from torch import nn, optim\n",
    "from torch.utils.data import Dataset, DataLoader\n",
    "\n",
    "%matplotlib inline\n",
    "%config InlineBackend.figure_format='retina'\n",
    "\n",
    "sns.set(style='whitegrid', palette='muted', font_scale=1.2)\n",
    "HAPPY_COLORS_PALETTE = [\"#01BEFE\", \"#FFDD00\", \"#FF7D00\", \"#FF006D\", \"#ADFF02\", \"#8F00FF\"]\n",
    "sns.set_palette(sns.color_palette(HAPPY_COLORS_PALETTE))\n",
    "rcParams['figure.figsize'] = 12, 8\n",
    "\n",
    "device = torch.device(\"cuda:0\" if torch.cuda.is_available() else \"cpu\")"
   ]
  },
  {
   "cell_type": "markdown",
   "metadata": {
    "id": "MPMA17Wi4wzb"
   },
   "source": [
    "# Data Loading"
   ]
  },
  {
   "cell_type": "code",
   "execution_count": 2,
   "metadata": {
    "colab": {
     "base_uri": "https://localhost:8080/",
     "height": 496
    },
    "id": "1WrwcBBS6g3v",
    "outputId": "9a5d8bed-8b65-4784-e945-374ca819bc45"
   },
   "outputs": [
    {
     "data": {
      "text/html": [
       "<div>\n",
       "<style scoped>\n",
       "    .dataframe tbody tr th:only-of-type {\n",
       "        vertical-align: middle;\n",
       "    }\n",
       "\n",
       "    .dataframe tbody tr th {\n",
       "        vertical-align: top;\n",
       "    }\n",
       "\n",
       "    .dataframe thead th {\n",
       "        text-align: right;\n",
       "    }\n",
       "</style>\n",
       "<table border=\"1\" class=\"dataframe\">\n",
       "  <thead>\n",
       "    <tr style=\"text-align: right;\">\n",
       "      <th></th>\n",
       "      <th>Image_Action.x</th>\n",
       "      <th>Image_People.x</th>\n",
       "      <th>Image_Emotion.x</th>\n",
       "      <th>Image_Vivid.x</th>\n",
       "      <th>Image_Scenes.x</th>\n",
       "      <th>Response.x</th>\n",
       "      <th>Steps</th>\n",
       "      <th>Effective</th>\n",
       "      <th>Concrete</th>\n",
       "      <th>Emotion</th>\n",
       "      <th>...</th>\n",
       "      <th>Concrete.HighCount</th>\n",
       "      <th>Concrete.HighDensity</th>\n",
       "      <th>Concrete.ExtremeCount</th>\n",
       "      <th>Concrete.ExtremeDensity</th>\n",
       "      <th>Concrete.BigramHighCount</th>\n",
       "      <th>WordCount</th>\n",
       "      <th>Concrete.Level</th>\n",
       "      <th>Concrete.Low</th>\n",
       "      <th>Concrete.Medium</th>\n",
       "      <th>Concrete.High</th>\n",
       "    </tr>\n",
       "  </thead>\n",
       "  <tbody>\n",
       "    <tr>\n",
       "      <th>0</th>\n",
       "      <td>1.0</td>\n",
       "      <td>3.0</td>\n",
       "      <td>3.0</td>\n",
       "      <td>3.0</td>\n",
       "      <td>3.0</td>\n",
       "      <td>I would come up with some possible suggestions...</td>\n",
       "      <td>1.5</td>\n",
       "      <td>2.5</td>\n",
       "      <td>2.5</td>\n",
       "      <td>2.5</td>\n",
       "      <td>...</td>\n",
       "      <td>32</td>\n",
       "      <td>0.201258</td>\n",
       "      <td>12</td>\n",
       "      <td>0.075472</td>\n",
       "      <td>0</td>\n",
       "      <td>159</td>\n",
       "      <td>High</td>\n",
       "      <td>0</td>\n",
       "      <td>0</td>\n",
       "      <td>1</td>\n",
       "    </tr>\n",
       "    <tr>\n",
       "      <th>1</th>\n",
       "      <td>2.0</td>\n",
       "      <td>4.0</td>\n",
       "      <td>3.0</td>\n",
       "      <td>4.0</td>\n",
       "      <td>4.0</td>\n",
       "      <td>I would think of a close friend or family memb...</td>\n",
       "      <td>1.0</td>\n",
       "      <td>1.0</td>\n",
       "      <td>1.5</td>\n",
       "      <td>1.5</td>\n",
       "      <td>...</td>\n",
       "      <td>28</td>\n",
       "      <td>0.291667</td>\n",
       "      <td>9</td>\n",
       "      <td>0.093750</td>\n",
       "      <td>1</td>\n",
       "      <td>96</td>\n",
       "      <td>Medium</td>\n",
       "      <td>0</td>\n",
       "      <td>1</td>\n",
       "      <td>0</td>\n",
       "    </tr>\n",
       "    <tr>\n",
       "      <th>2</th>\n",
       "      <td>1.0</td>\n",
       "      <td>2.0</td>\n",
       "      <td>1.0</td>\n",
       "      <td>1.0</td>\n",
       "      <td>1.0</td>\n",
       "      <td>Make a plan to reach out to friends and family...</td>\n",
       "      <td>1.5</td>\n",
       "      <td>2.0</td>\n",
       "      <td>1.5</td>\n",
       "      <td>1.5</td>\n",
       "      <td>...</td>\n",
       "      <td>8</td>\n",
       "      <td>0.258065</td>\n",
       "      <td>2</td>\n",
       "      <td>0.064516</td>\n",
       "      <td>1</td>\n",
       "      <td>31</td>\n",
       "      <td>Medium</td>\n",
       "      <td>0</td>\n",
       "      <td>1</td>\n",
       "      <td>0</td>\n",
       "    </tr>\n",
       "    <tr>\n",
       "      <th>3</th>\n",
       "      <td>1.0</td>\n",
       "      <td>3.0</td>\n",
       "      <td>3.0</td>\n",
       "      <td>3.0</td>\n",
       "      <td>4.0</td>\n",
       "      <td>I would firstly engage in having a coffee with...</td>\n",
       "      <td>1.5</td>\n",
       "      <td>2.0</td>\n",
       "      <td>2.0</td>\n",
       "      <td>2.0</td>\n",
       "      <td>...</td>\n",
       "      <td>20</td>\n",
       "      <td>0.256410</td>\n",
       "      <td>6</td>\n",
       "      <td>0.076923</td>\n",
       "      <td>0</td>\n",
       "      <td>78</td>\n",
       "      <td>Medium</td>\n",
       "      <td>0</td>\n",
       "      <td>1</td>\n",
       "      <td>0</td>\n",
       "    </tr>\n",
       "    <tr>\n",
       "      <th>4</th>\n",
       "      <td>1.0</td>\n",
       "      <td>3.0</td>\n",
       "      <td>3.0</td>\n",
       "      <td>2.0</td>\n",
       "      <td>1.0</td>\n",
       "      <td>This morning I feel lonely as I haven't seen a...</td>\n",
       "      <td>2.0</td>\n",
       "      <td>1.5</td>\n",
       "      <td>2.0</td>\n",
       "      <td>1.5</td>\n",
       "      <td>...</td>\n",
       "      <td>46</td>\n",
       "      <td>0.272189</td>\n",
       "      <td>14</td>\n",
       "      <td>0.082840</td>\n",
       "      <td>0</td>\n",
       "      <td>169</td>\n",
       "      <td>Medium</td>\n",
       "      <td>0</td>\n",
       "      <td>1</td>\n",
       "      <td>0</td>\n",
       "    </tr>\n",
       "  </tbody>\n",
       "</table>\n",
       "<p>5 rows × 50 columns</p>\n",
       "</div>"
      ],
      "text/plain": [
       "   Image_Action.x  Image_People.x  Image_Emotion.x  Image_Vivid.x  \\\n",
       "0             1.0             3.0              3.0            3.0   \n",
       "1             2.0             4.0              3.0            4.0   \n",
       "2             1.0             2.0              1.0            1.0   \n",
       "3             1.0             3.0              3.0            3.0   \n",
       "4             1.0             3.0              3.0            2.0   \n",
       "\n",
       "   Image_Scenes.x                                         Response.x  Steps  \\\n",
       "0             3.0  I would come up with some possible suggestions...    1.5   \n",
       "1             4.0  I would think of a close friend or family memb...    1.0   \n",
       "2             1.0  Make a plan to reach out to friends and family...    1.5   \n",
       "3             4.0  I would firstly engage in having a coffee with...    1.5   \n",
       "4             1.0  This morning I feel lonely as I haven't seen a...    2.0   \n",
       "\n",
       "   Effective  Concrete  Emotion  ...  Concrete.HighCount  \\\n",
       "0        2.5       2.5      2.5  ...                  32   \n",
       "1        1.0       1.5      1.5  ...                  28   \n",
       "2        2.0       1.5      1.5  ...                   8   \n",
       "3        2.0       2.0      2.0  ...                  20   \n",
       "4        1.5       2.0      1.5  ...                  46   \n",
       "\n",
       "   Concrete.HighDensity Concrete.ExtremeCount Concrete.ExtremeDensity  \\\n",
       "0              0.201258                    12                0.075472   \n",
       "1              0.291667                     9                0.093750   \n",
       "2              0.258065                     2                0.064516   \n",
       "3              0.256410                     6                0.076923   \n",
       "4              0.272189                    14                0.082840   \n",
       "\n",
       "  Concrete.BigramHighCount WordCount Concrete.Level Concrete.Low  \\\n",
       "0                        0       159           High            0   \n",
       "1                        1        96         Medium            0   \n",
       "2                        1        31         Medium            0   \n",
       "3                        0        78         Medium            0   \n",
       "4                        0       169         Medium            0   \n",
       "\n",
       "  Concrete.Medium  Concrete.High  \n",
       "0               0              1  \n",
       "1               1              0  \n",
       "2               1              0  \n",
       "3               1              0  \n",
       "4               1              0  \n",
       "\n",
       "[5 rows x 50 columns]"
      ]
     },
     "execution_count": 2,
     "metadata": {},
     "output_type": "execute_result"
    }
   ],
   "source": [
    "df = pd.read_csv(\"../data/Concrete_Discrete_16032021.csv\")\n",
    "df.head()"
   ]
  },
  {
   "cell_type": "code",
   "execution_count": 3,
   "metadata": {
    "colab": {
     "base_uri": "https://localhost:8080/"
    },
    "id": "M-0E9TBA52jr",
    "outputId": "43d410d2-10f8-4584-e630-8a73c295956f"
   },
   "outputs": [
    {
     "data": {
      "text/plain": [
       "(1236, 50)"
      ]
     },
     "execution_count": 3,
     "metadata": {},
     "output_type": "execute_result"
    }
   ],
   "source": [
    "df.shape"
   ]
  },
  {
   "cell_type": "markdown",
   "metadata": {
    "id": "2gM6pocI5Sa9"
   },
   "source": [
    "Dropping invalid rows"
   ]
  },
  {
   "cell_type": "code",
   "execution_count": 4,
   "metadata": {
    "colab": {
     "base_uri": "https://localhost:8080/"
    },
    "id": "i1VrB2rr5RgQ",
    "outputId": "5e4572ef-77c0-48d9-fa94-af6987c6ad36"
   },
   "outputs": [
    {
     "data": {
      "text/plain": [
       "(1088, 50)"
      ]
     },
     "execution_count": 4,
     "metadata": {},
     "output_type": "execute_result"
    }
   ],
   "source": [
    "df = df[df.invalid_response == 0]\n",
    "df.shape"
   ]
  },
  {
   "cell_type": "markdown",
   "metadata": {
    "id": "ZKU7i2Hd6dRo"
   },
   "source": [
    "Keeping only the important columns"
   ]
  },
  {
   "cell_type": "code",
   "execution_count": 5,
   "metadata": {
    "colab": {
     "base_uri": "https://localhost:8080/",
     "height": 204
    },
    "id": "-okrpBzD6jjZ",
    "outputId": "eed6b1b6-12b0-49a5-e31e-0cc09d2762bd"
   },
   "outputs": [
    {
     "data": {
      "text/html": [
       "<div>\n",
       "<style scoped>\n",
       "    .dataframe tbody tr th:only-of-type {\n",
       "        vertical-align: middle;\n",
       "    }\n",
       "\n",
       "    .dataframe tbody tr th {\n",
       "        vertical-align: top;\n",
       "    }\n",
       "\n",
       "    .dataframe thead th {\n",
       "        text-align: right;\n",
       "    }\n",
       "</style>\n",
       "<table border=\"1\" class=\"dataframe\">\n",
       "  <thead>\n",
       "    <tr style=\"text-align: right;\">\n",
       "      <th></th>\n",
       "      <th>Response</th>\n",
       "      <th>Concrete</th>\n",
       "    </tr>\n",
       "  </thead>\n",
       "  <tbody>\n",
       "    <tr>\n",
       "      <th>0</th>\n",
       "      <td>I would come up with some possible suggestions...</td>\n",
       "      <td>High</td>\n",
       "    </tr>\n",
       "    <tr>\n",
       "      <th>1</th>\n",
       "      <td>I would think of a close friend or family memb...</td>\n",
       "      <td>Medium</td>\n",
       "    </tr>\n",
       "    <tr>\n",
       "      <th>2</th>\n",
       "      <td>Make a plan to reach out to friends and family...</td>\n",
       "      <td>Medium</td>\n",
       "    </tr>\n",
       "    <tr>\n",
       "      <th>3</th>\n",
       "      <td>I would firstly engage in having a coffee with...</td>\n",
       "      <td>Medium</td>\n",
       "    </tr>\n",
       "    <tr>\n",
       "      <th>4</th>\n",
       "      <td>This morning I feel lonely as I haven't seen a...</td>\n",
       "      <td>Medium</td>\n",
       "    </tr>\n",
       "  </tbody>\n",
       "</table>\n",
       "</div>"
      ],
      "text/plain": [
       "                                            Response Concrete\n",
       "0  I would come up with some possible suggestions...     High\n",
       "1  I would think of a close friend or family memb...   Medium\n",
       "2  Make a plan to reach out to friends and family...   Medium\n",
       "3  I would firstly engage in having a coffee with...   Medium\n",
       "4  This morning I feel lonely as I haven't seen a...   Medium"
      ]
     },
     "execution_count": 5,
     "metadata": {},
     "output_type": "execute_result"
    }
   ],
   "source": [
    "df = df[[\"Response.x\", \"Concrete.Level\"]]\n",
    "df = df.rename(columns={\"Response.x\":\"Response\", \"Concrete.Level\":\"Concrete\"})\n",
    "\n",
    "df.head()"
   ]
  },
  {
   "cell_type": "markdown",
   "metadata": {
    "id": "4Hf5EZs-sUvs"
   },
   "source": [
    "Converting string to numeric"
   ]
  },
  {
   "cell_type": "code",
   "execution_count": 6,
   "metadata": {
    "colab": {
     "base_uri": "https://localhost:8080/",
     "height": 204
    },
    "id": "65sjR5R3sUEc",
    "outputId": "458319ed-7fda-48c7-93d3-849fd4e01aa7"
   },
   "outputs": [
    {
     "data": {
      "text/html": [
       "<div>\n",
       "<style scoped>\n",
       "    .dataframe tbody tr th:only-of-type {\n",
       "        vertical-align: middle;\n",
       "    }\n",
       "\n",
       "    .dataframe tbody tr th {\n",
       "        vertical-align: top;\n",
       "    }\n",
       "\n",
       "    .dataframe thead th {\n",
       "        text-align: right;\n",
       "    }\n",
       "</style>\n",
       "<table border=\"1\" class=\"dataframe\">\n",
       "  <thead>\n",
       "    <tr style=\"text-align: right;\">\n",
       "      <th></th>\n",
       "      <th>Response</th>\n",
       "      <th>Concrete</th>\n",
       "    </tr>\n",
       "  </thead>\n",
       "  <tbody>\n",
       "    <tr>\n",
       "      <th>0</th>\n",
       "      <td>I would come up with some possible suggestions...</td>\n",
       "      <td>2</td>\n",
       "    </tr>\n",
       "    <tr>\n",
       "      <th>1</th>\n",
       "      <td>I would think of a close friend or family memb...</td>\n",
       "      <td>1</td>\n",
       "    </tr>\n",
       "    <tr>\n",
       "      <th>2</th>\n",
       "      <td>Make a plan to reach out to friends and family...</td>\n",
       "      <td>1</td>\n",
       "    </tr>\n",
       "    <tr>\n",
       "      <th>3</th>\n",
       "      <td>I would firstly engage in having a coffee with...</td>\n",
       "      <td>1</td>\n",
       "    </tr>\n",
       "    <tr>\n",
       "      <th>4</th>\n",
       "      <td>This morning I feel lonely as I haven't seen a...</td>\n",
       "      <td>1</td>\n",
       "    </tr>\n",
       "  </tbody>\n",
       "</table>\n",
       "</div>"
      ],
      "text/plain": [
       "                                            Response  Concrete\n",
       "0  I would come up with some possible suggestions...         2\n",
       "1  I would think of a close friend or family memb...         1\n",
       "2  Make a plan to reach out to friends and family...         1\n",
       "3  I would firstly engage in having a coffee with...         1\n",
       "4  This morning I feel lonely as I haven't seen a...         1"
      ]
     },
     "execution_count": 6,
     "metadata": {},
     "output_type": "execute_result"
    }
   ],
   "source": [
    "mapping = {\n",
    "    \"Low\": 0,\n",
    "    \"Medium\": 1,\n",
    "    \"High\": 2\n",
    "}\n",
    "df = df.replace({'Concrete': mapping})\n",
    "\n",
    "df.head()"
   ]
  },
  {
   "cell_type": "markdown",
   "metadata": {
    "id": "CWmDoRAtA2BF"
   },
   "source": [
    "Removing invalid rows (that haven't been caught by invalid_response)"
   ]
  },
  {
   "cell_type": "code",
   "execution_count": 7,
   "metadata": {
    "colab": {
     "base_uri": "https://localhost:8080/"
    },
    "id": "2r8gZH3CAz9G",
    "outputId": "6cbdb075-dab8-4f83-e32d-46c39461ab69"
   },
   "outputs": [
    {
     "data": {
      "text/plain": [
       "(1084, 2)"
      ]
     },
     "execution_count": 7,
     "metadata": {},
     "output_type": "execute_result"
    }
   ],
   "source": [
    "df = df.dropna()\n",
    "df.shape"
   ]
  },
  {
   "cell_type": "markdown",
   "metadata": {
    "id": "_uCruKho48TB"
   },
   "source": [
    "# Data Preprocessing"
   ]
  },
  {
   "cell_type": "code",
   "execution_count": 8,
   "metadata": {
    "id": "3d_9bhPk62rG"
   },
   "outputs": [],
   "source": [
    "PRE_TRAINED_MODEL_NAME = 'bert-base-cased'\n",
    "tokenizer = BertTokenizer.from_pretrained(PRE_TRAINED_MODEL_NAME)"
   ]
  },
  {
   "cell_type": "code",
   "execution_count": 9,
   "metadata": {},
   "outputs": [
    {
     "name": "stdout",
     "output_type": "stream",
     "text": [
      " Sentence: I would make a list of all the people I could contact, and method of contacting (eg email, online, video chat, phone call).  I would contact my family by phone call, or my friends by social media.  I would make sure I joined the virtual chat groups set up by my sporting groups, and complete the fun challenges that they have sent me.\n",
      "   Tokens: ['I', 'would', 'make', 'a', 'list', 'of', 'all', 'the', 'people', 'I', 'could', 'contact', ',', 'and', 'method', 'of', 'contact', '##ing', '(', 'e', '##g', 'email', ',', 'online', ',', 'video', 'chat', ',', 'phone', 'call', ')', '.', 'I', 'would', 'contact', 'my', 'family', 'by', 'phone', 'call', ',', 'or', 'my', 'friends', 'by', 'social', 'media', '.', 'I', 'would', 'make', 'sure', 'I', 'joined', 'the', 'virtual', 'chat', 'groups', 'set', 'up', 'by', 'my', 'sporting', 'groups', ',', 'and', 'complete', 'the', 'fun', 'challenges', 'that', 'they', 'have', 'sent', 'me', '.']\n",
      "Token IDs: [146, 1156, 1294, 170, 2190, 1104, 1155, 1103, 1234, 146, 1180, 3232, 117, 1105, 3442, 1104, 3232, 1158, 113, 174, 1403, 10632, 117, 3294, 117, 1888, 13287, 117, 2179, 1840, 114, 119, 146, 1156, 3232, 1139, 1266, 1118, 2179, 1840, 117, 1137, 1139, 2053, 1118, 1934, 2394, 119, 146, 1156, 1294, 1612, 146, 1688, 1103, 8496, 13287, 2114, 1383, 1146, 1118, 1139, 9648, 2114, 117, 1105, 2335, 1103, 4106, 7806, 1115, 1152, 1138, 1850, 1143, 119]\n"
     ]
    }
   ],
   "source": [
    "sample_text = df.Response[20]\n",
    "\n",
    "tokens = tokenizer.tokenize(sample_text)\n",
    "token_ids = tokenizer.convert_tokens_to_ids(tokens)\n",
    "print(f' Sentence: {sample_text}')\n",
    "print(f'   Tokens: {tokens}')\n",
    "print(f'Token IDs: {token_ids}')"
   ]
  },
  {
   "cell_type": "code",
   "execution_count": 10,
   "metadata": {},
   "outputs": [
    {
     "data": {
      "text/plain": [
       "['[CLS]',\n",
       " 'I',\n",
       " 'would',\n",
       " 'make',\n",
       " 'a',\n",
       " 'list',\n",
       " 'of',\n",
       " 'all',\n",
       " 'the',\n",
       " 'people',\n",
       " 'I',\n",
       " 'could',\n",
       " 'contact',\n",
       " ',',\n",
       " 'and',\n",
       " 'method',\n",
       " 'of',\n",
       " 'contact',\n",
       " '##ing',\n",
       " '(',\n",
       " 'e',\n",
       " '##g',\n",
       " 'email',\n",
       " ',',\n",
       " 'online',\n",
       " ',',\n",
       " 'video',\n",
       " 'chat',\n",
       " ',',\n",
       " 'phone',\n",
       " 'call',\n",
       " ')',\n",
       " '.',\n",
       " 'I',\n",
       " 'would',\n",
       " 'contact',\n",
       " 'my',\n",
       " 'family',\n",
       " 'by',\n",
       " 'phone',\n",
       " 'call',\n",
       " ',',\n",
       " 'or',\n",
       " 'my',\n",
       " 'friends',\n",
       " 'by',\n",
       " 'social',\n",
       " 'media',\n",
       " '.',\n",
       " 'I',\n",
       " 'would',\n",
       " 'make',\n",
       " 'sure',\n",
       " 'I',\n",
       " 'joined',\n",
       " 'the',\n",
       " 'virtual',\n",
       " 'chat',\n",
       " 'groups',\n",
       " 'set',\n",
       " 'up',\n",
       " 'by',\n",
       " 'my',\n",
       " 'sporting',\n",
       " 'groups',\n",
       " ',',\n",
       " 'and',\n",
       " 'complete',\n",
       " 'the',\n",
       " 'fun',\n",
       " 'challenges',\n",
       " 'that',\n",
       " 'they',\n",
       " 'have',\n",
       " 'sent',\n",
       " 'me',\n",
       " '.',\n",
       " '[SEP]',\n",
       " '[PAD]',\n",
       " '[PAD]',\n",
       " '[PAD]',\n",
       " '[PAD]',\n",
       " '[PAD]',\n",
       " '[PAD]',\n",
       " '[PAD]',\n",
       " '[PAD]',\n",
       " '[PAD]',\n",
       " '[PAD]',\n",
       " '[PAD]',\n",
       " '[PAD]',\n",
       " '[PAD]',\n",
       " '[PAD]',\n",
       " '[PAD]',\n",
       " '[PAD]',\n",
       " '[PAD]',\n",
       " '[PAD]',\n",
       " '[PAD]',\n",
       " '[PAD]',\n",
       " '[PAD]',\n",
       " '[PAD]']"
      ]
     },
     "execution_count": 10,
     "metadata": {},
     "output_type": "execute_result"
    }
   ],
   "source": [
    "encoding = tokenizer.encode_plus(\n",
    "  sample_text,\n",
    "  max_length=100,\n",
    "  add_special_tokens=True, # Add '[CLS]' and '[SEP]'\n",
    "  return_token_type_ids=False,\n",
    "  padding='max_length',\n",
    "  return_attention_mask=True,\n",
    "  return_tensors='pt',  # Return PyTorch tensors\n",
    "  truncation=True\n",
    ")\n",
    "tokenizer.convert_ids_to_tokens(encoding['input_ids'][0])"
   ]
  },
  {
   "cell_type": "markdown",
   "metadata": {
    "id": "Gh9BdwWA5Cit"
   },
   "source": [
    "Trying out the BERT Tokenizer..."
   ]
  },
  {
   "cell_type": "markdown",
   "metadata": {
    "id": "c8LtMLCA54dM"
   },
   "source": [
    "Deciding on sequence length"
   ]
  },
  {
   "cell_type": "code",
   "execution_count": 11,
   "metadata": {
    "colab": {
     "base_uri": "https://localhost:8080/"
    },
    "id": "wVARpSzC79Ax",
    "outputId": "a44ce846-5304-4461-8b06-4744101217f9"
   },
   "outputs": [
    {
     "name": "stderr",
     "output_type": "stream",
     "text": [
      "Token indices sequence length is longer than the specified maximum sequence length for this model (710 > 512). Running this sequence through the model will result in indexing errors\n"
     ]
    }
   ],
   "source": [
    "token_lens = []\n",
    "for txt in df.Response:\n",
    "  tokens = tokenizer.encode(txt)\n",
    "  token_lens.append(len(tokens))"
   ]
  },
  {
   "cell_type": "code",
   "execution_count": 12,
   "metadata": {
    "colab": {
     "base_uri": "https://localhost:8080/",
     "height": 560
    },
    "id": "NrYIjCtL8Cye",
    "outputId": "2ff0d283-a6f8-4a11-94ec-f3102f7fdd1d"
   },
   "outputs": [
    {
     "name": "stderr",
     "output_type": "stream",
     "text": [
      "c:\\users\\magab\\anaconda3\\envs\\carestudy3.8\\lib\\site-packages\\seaborn\\distributions.py:2557: FutureWarning: `distplot` is a deprecated function and will be removed in a future version. Please adapt your code to use either `displot` (a figure-level function with similar flexibility) or `histplot` (an axes-level function for histograms).\n",
      "  warnings.warn(msg, FutureWarning)\n"
     ]
    },
    {
     "data": {
      "image/png": "[encoded data removed]",
      "text/plain": [
       "<Figure size 864x576 with 1 Axes>"
      ]
     },
     "metadata": {
      "image/png": {
       "height": 488,
       "width": 755
      }
     },
     "output_type": "display_data"
    }
   ],
   "source": [
    "sns.distplot(token_lens)\n",
    "plt.xlim([0, 900]);\n",
    "plt.xlabel('Token count');"
   ]
  },
  {
   "cell_type": "markdown",
   "metadata": {
    "id": "mYwG0Lcr59vd"
   },
   "source": [
    "A majority of our responses have 400 or less words."
   ]
  },
  {
   "cell_type": "code",
   "execution_count": 13,
   "metadata": {
    "id": "vqwbtoGz8GVZ"
   },
   "outputs": [],
   "source": [
    "MAX_LEN = 400 #Max of BERT is 512"
   ]
  },
  {
   "cell_type": "code",
   "execution_count": 14,
   "metadata": {
    "id": "NvloCyPJ8KUw"
   },
   "outputs": [],
   "source": [
    "class ConcretenessDataset(Dataset):\n",
    "  def __init__(self, response, targets, tokenizer, max_len):\n",
    "    self.response = response\n",
    "    self.targets = targets\n",
    "    self.tokenizer = tokenizer\n",
    "    self.max_len = max_len\n",
    "  def __len__(self):\n",
    "    return len(self.response)\n",
    "  def __getitem__(self, item):\n",
    "    response = str(self.response[item])\n",
    "    target = self.targets[item]\n",
    "    encoding = self.tokenizer.encode_plus(\n",
    "      response,\n",
    "      add_special_tokens=True,\n",
    "      max_length=self.max_len,\n",
    "      return_token_type_ids=False,\n",
    "      padding='max_length',\n",
    "      return_attention_mask=True,\n",
    "      return_tensors='pt',\n",
    "      truncation=True\n",
    "    )\n",
    "    return {\n",
    "      'response': response,\n",
    "      'input_ids': encoding['input_ids'].flatten(),\n",
    "      'attention_mask': encoding['attention_mask'].flatten(),\n",
    "      'targets': torch.tensor(target, dtype=torch.long)\n",
    "    }"
   ]
  },
  {
   "cell_type": "markdown",
   "metadata": {
    "id": "uGoB_mtQB-9f"
   },
   "source": [
    "## Train test split"
   ]
  },
  {
   "cell_type": "code",
   "execution_count": 15,
   "metadata": {
    "id": "6MrcOWhB8VkF"
   },
   "outputs": [],
   "source": [
    "df_train, df_test = train_test_split(\n",
    "  df,\n",
    "  stratify=df.Concrete,\n",
    "  test_size=0.2\n",
    ")\n",
    "df_val, df_test = train_test_split(\n",
    "  df_test,\n",
    "  stratify=df_test.Concrete,\n",
    "  test_size=0.5\n",
    ")"
   ]
  },
  {
   "cell_type": "code",
   "execution_count": 16,
   "metadata": {
    "colab": {
     "base_uri": "https://localhost:8080/"
    },
    "id": "DpCPKSUB9PUH",
    "outputId": "93240a59-7242-43a1-87e1-459541d012e0"
   },
   "outputs": [
    {
     "data": {
      "text/plain": [
       "((867, 2), (108, 2), (109, 2))"
      ]
     },
     "execution_count": 16,
     "metadata": {},
     "output_type": "execute_result"
    }
   ],
   "source": [
    "df_train.shape, df_val.shape, df_test.shape"
   ]
  },
  {
   "cell_type": "markdown",
   "metadata": {
    "id": "e2GaoebYD57T"
   },
   "source": [
    "Checking class balance..."
   ]
  },
  {
   "cell_type": "code",
   "execution_count": 17,
   "metadata": {
    "colab": {
     "base_uri": "https://localhost:8080/",
     "height": 560
    },
    "id": "L8mZ_qYTD5bh",
    "outputId": "35391590-6c7d-4528-dcd6-4b6f4112175f"
   },
   "outputs": [
    {
     "name": "stderr",
     "output_type": "stream",
     "text": [
      "c:\\users\\magab\\anaconda3\\envs\\carestudy3.8\\lib\\site-packages\\seaborn\\_decorators.py:36: FutureWarning: Pass the following variable as a keyword arg: x. From version 0.12, the only valid positional argument will be `data`, and passing other arguments without an explicit keyword will result in an error or misinterpretation.\n",
      "  warnings.warn(\n"
     ]
    },
    {
     "data": {
      "image/png": "[encoded data removed]",
      "text/plain": [
       "<Figure size 864x576 with 1 Axes>"
      ]
     },
     "metadata": {
      "image/png": {
       "height": 488,
       "width": 733
      }
     },
     "output_type": "display_data"
    }
   ],
   "source": [
    "class_names = ['Low', 'Medium', 'High']\n",
    "ax = sns.countplot(df_train.Concrete)\n",
    "plt.xlabel('Train Concreteness')\n",
    "ax.set_xticklabels(class_names);"
   ]
  },
  {
   "cell_type": "code",
   "execution_count": 18,
   "metadata": {
    "colab": {
     "base_uri": "https://localhost:8080/",
     "height": 560
    },
    "id": "9BYqwDmvELUv",
    "outputId": "c4f2acbd-b8e7-411b-b261-3298e9390e04"
   },
   "outputs": [
    {
     "name": "stderr",
     "output_type": "stream",
     "text": [
      "c:\\users\\magab\\anaconda3\\envs\\carestudy3.8\\lib\\site-packages\\seaborn\\_decorators.py:36: FutureWarning: Pass the following variable as a keyword arg: x. From version 0.12, the only valid positional argument will be `data`, and passing other arguments without an explicit keyword will result in an error or misinterpretation.\n",
      "  warnings.warn(\n"
     ]
    },
    {
     "data": {
      "image/png": "[encoded data removed]",
      "text/plain": [
       "<Figure size 864x576 with 1 Axes>"
      ]
     },
     "metadata": {
      "image/png": {
       "height": 488,
       "width": 726
      }
     },
     "output_type": "display_data"
    }
   ],
   "source": [
    "ax = sns.countplot(df_test.Concrete)\n",
    "plt.xlabel('Test Concreteness')\n",
    "ax.set_xticklabels(class_names);"
   ]
  },
  {
   "cell_type": "code",
   "execution_count": 19,
   "metadata": {
    "colab": {
     "base_uri": "https://localhost:8080/",
     "height": 560
    },
    "id": "lI3BhOzGEO7G",
    "outputId": "e4ad8220-8f6f-4ecc-c889-9012c27f8776"
   },
   "outputs": [
    {
     "name": "stderr",
     "output_type": "stream",
     "text": [
      "c:\\users\\magab\\anaconda3\\envs\\carestudy3.8\\lib\\site-packages\\seaborn\\_decorators.py:36: FutureWarning: Pass the following variable as a keyword arg: x. From version 0.12, the only valid positional argument will be `data`, and passing other arguments without an explicit keyword will result in an error or misinterpretation.\n",
      "  warnings.warn(\n"
     ]
    },
    {
     "data": {
      "image/png": "[encoded data removed]",
      "text/plain": [
       "<Figure size 864x576 with 1 Axes>"
      ]
     },
     "metadata": {
      "image/png": {
       "height": 488,
       "width": 726
      }
     },
     "output_type": "display_data"
    }
   ],
   "source": [
    "ax = sns.countplot(df_val.Concrete)\n",
    "plt.xlabel('Val Concreteness')\n",
    "ax.set_xticklabels(class_names);"
   ]
  },
  {
   "cell_type": "code",
   "execution_count": 20,
   "metadata": {
    "id": "l2e97Qng8ZUt"
   },
   "outputs": [],
   "source": [
    "def create_data_loader(df, tokenizer, max_len, batch_size):\n",
    "  ds = ConcretenessDataset(\n",
    "    response=df.Response.to_numpy(),\n",
    "    targets=df.Concrete.to_numpy(),\n",
    "    tokenizer=tokenizer,\n",
    "    max_len=max_len\n",
    "  )\n",
    "  return DataLoader(\n",
    "    ds,\n",
    "    batch_size=batch_size,\n",
    "    num_workers=4\n",
    "  )"
   ]
  },
  {
   "cell_type": "code",
   "execution_count": 21,
   "metadata": {
    "colab": {
     "base_uri": "https://localhost:8080/"
    },
    "id": "iVVP0DQa8a9Y",
    "outputId": "17a2d296-8ab3-41bd-effe-72c6cdd7c11e"
   },
   "outputs": [],
   "source": [
    "BATCH_SIZE = 8\n",
    "train_data_loader = create_data_loader(df_train, tokenizer, MAX_LEN, BATCH_SIZE)\n",
    "val_data_loader = create_data_loader(df_val, tokenizer, MAX_LEN, BATCH_SIZE)\n",
    "test_data_loader = create_data_loader(df_test, tokenizer, MAX_LEN, BATCH_SIZE)"
   ]
  },
  {
   "cell_type": "markdown",
   "metadata": {
    "id": "Uamt0sUQwVlJ"
   },
   "source": [
    "# Concreteness Predictor"
   ]
  },
  {
   "cell_type": "code",
   "execution_count": 22,
   "metadata": {
    "id": "3mVj6c8wwW3q"
   },
   "outputs": [],
   "source": [
    "bert_model = BertModel.from_pretrained(PRE_TRAINED_MODEL_NAME)"
   ]
  },
  {
   "cell_type": "code",
   "execution_count": 23,
   "metadata": {
    "id": "a7_91U9qwfeE"
   },
   "outputs": [],
   "source": [
    "class ConcretenessClassifier(nn.Module):\n",
    "  def __init__(self):\n",
    "    super(ConcretenessClassifier, self).__init__()\n",
    "    self.bert = BertModel.from_pretrained(PRE_TRAINED_MODEL_NAME)\n",
    "    self.drop = nn.Dropout(p=0.3)\n",
    "    self.out = nn.Linear(self.bert.config.hidden_size, 3) # 3 classes: Low, Medium, High\n",
    "    \n",
    "  def forward(self, input_ids, attention_mask):\n",
    "    base_model_output = self.bert(\n",
    "      input_ids=input_ids,\n",
    "      attention_mask=attention_mask\n",
    "    )\n",
    "\n",
    "    output = self.drop(base_model_output.pooler_output)\n",
    "    return self.out(output)"
   ]
  },
  {
   "cell_type": "code",
   "execution_count": 24,
   "metadata": {
    "id": "bnwsOiOILoVf"
   },
   "outputs": [],
   "source": [
    "model = ConcretenessClassifier()\n",
    "model = model.to(device)"
   ]
  },
  {
   "cell_type": "code",
   "execution_count": 25,
   "metadata": {
    "id": "eUTwtaVxLvgN"
   },
   "outputs": [],
   "source": [
    "EPOCHS = 10\n",
    "optimizer = AdamW(model.parameters(), lr=2e-5, correct_bias=False)\n",
    "total_steps = len(train_data_loader) * EPOCHS\n",
    "scheduler = get_linear_schedule_with_warmup(\n",
    "  optimizer,\n",
    "  num_warmup_steps=0,\n",
    "  num_training_steps=total_steps\n",
    ")\n",
    "\n",
    "# loss functions: https://pytorch.org/docs/stable/nn.html#loss-functions\n",
    "loss_fn = nn.CrossEntropyLoss().to(device)"
   ]
  },
  {
   "cell_type": "code",
   "execution_count": 26,
   "metadata": {
    "id": "yrwJdnS4R7uN"
   },
   "outputs": [],
   "source": [
    "def train_epoch(\n",
    "  model,\n",
    "  data_loader,\n",
    "  loss_fn,\n",
    "  optimizer,\n",
    "  device,\n",
    "  scheduler,\n",
    "  n_examples\n",
    "):\n",
    "  model = model.train()\n",
    "  losses = []\n",
    "  correct_predictions = 0\n",
    "\n",
    "  for d in data_loader:\n",
    "    input_ids = d[\"input_ids\"].to(device)\n",
    "    attention_mask = d[\"attention_mask\"].to(device)\n",
    "    targets = d[\"targets\"].to(device)\n",
    "\n",
    "    outputs = model(\n",
    "      input_ids=input_ids,\n",
    "      attention_mask=attention_mask\n",
    "    )\n",
    "\n",
    "    _, preds = torch.max(outputs, dim=1)\n",
    "    loss = loss_fn(outputs, targets)\n",
    "\n",
    "    correct_predictions += torch.sum(preds == targets)\n",
    "    losses.append(loss.item())\n",
    "\n",
    "    loss.backward()\n",
    "    nn.utils.clip_grad_norm_(model.parameters(), max_norm=1.0)\n",
    "    optimizer.step()\n",
    "    scheduler.step()\n",
    "    optimizer.zero_grad()\n",
    "\n",
    "  return correct_predictions.double() / n_examples, np.mean(losses)"
   ]
  },
  {
   "cell_type": "code",
   "execution_count": 27,
   "metadata": {
    "id": "eZsbF8A2R_OQ"
   },
   "outputs": [],
   "source": [
    "def eval_model(model, data_loader, loss_fn, device, n_examples):\n",
    "  model = model.eval()\n",
    "\n",
    "  losses = []\n",
    "  correct_predictions = 0\n",
    "\n",
    "  with torch.no_grad():\n",
    "    for d in data_loader:\n",
    "      input_ids = d[\"input_ids\"].to(device)\n",
    "      attention_mask = d[\"attention_mask\"].to(device)\n",
    "      targets = d[\"targets\"].to(device)\n",
    "      outputs = model(\n",
    "        input_ids=input_ids,\n",
    "        attention_mask=attention_mask\n",
    "      )\n",
    "\n",
    "      _, preds = torch.max(outputs, dim=1)\n",
    "      loss = loss_fn(outputs, targets)\n",
    "\n",
    "      correct_predictions += torch.sum(preds == targets)\n",
    "      losses.append(loss.item())\n",
    "  return correct_predictions.double() / n_examples, np.mean(losses)"
   ]
  },
  {
   "cell_type": "code",
   "execution_count": null,
   "metadata": {
    "colab": {
     "base_uri": "https://localhost:8080/"
    },
    "id": "sDKW_k8dSCqF",
    "outputId": "6c911918-d4f4-454f-f34c-52daeba8abe6"
   },
   "outputs": [
    {
     "name": "stdout",
     "output_type": "stream",
     "text": [
      "Epoch 1/10\n",
      "--------------------\n"
     ]
    }
   ],
   "source": [
    "%%time\n",
    "history = defaultdict(list)\n",
    "best_accuracy = 0\n",
    "for epoch in range(EPOCHS):\n",
    "  print(f'Epoch {epoch + 1}/{EPOCHS}')\n",
    "  print('-' * 20)\n",
    "  train_acc, train_loss = train_epoch(\n",
    "    model,\n",
    "    train_data_loader,\n",
    "    loss_fn,\n",
    "    optimizer,\n",
    "    device,\n",
    "    scheduler,\n",
    "    len(df_train)\n",
    "  )\n",
    "  print(f'Train loss {train_loss} accuracy {train_acc}')\n",
    "'''\n",
    "val_acc, val_loss = eval_model(\n",
    "    model,\n",
    "    val_data_loader,\n",
    "    loss_fn,\n",
    "    device,\n",
    "    len(df_val)\n",
    "  )\n",
    "  print(f'Val   loss {val_loss} accuracy {val_acc}')\n",
    "  print()\n",
    "\n",
    "  history['train_acc'].append(train_acc)\n",
    "  history['train_loss'].append(train_loss)\n",
    "  history['val_acc'].append(val_acc)\n",
    "  history['val_loss'].append(val_loss)\n",
    "\n",
    "  if val_acc > best_accuracy:\n",
    "    torch.save(model.state_dict(), 'best_model_state.bin')\n",
    "    best_accuracy = val_acc\n",
    "'''"
   ]
  },
  {
   "cell_type": "code",
   "execution_count": null,
   "metadata": {
    "colab": {
     "base_uri": "https://localhost:8080/",
     "height": 523
    },
    "id": "-c1w2RVTiyk3",
    "outputId": "d6c4208b-929c-47ad-d9b7-050dbeba667e"
   },
   "outputs": [],
   "source": [
    "plt.plot(history['train_acc'], label='train accuracy')\n",
    "plt.plot(history['val_acc'], label='validation accuracy')\n",
    "plt.title('Training history')\n",
    "plt.ylabel('Accuracy')\n",
    "plt.xlabel('Epoch')\n",
    "plt.legend()\n",
    "plt.ylim([0, 1]);"
   ]
  },
  {
   "cell_type": "code",
   "execution_count": null,
   "metadata": {
    "id": "PcmwEpt9siF3"
   },
   "outputs": [],
   "source": [
    "def get_predictions(model, data_loader):\n",
    "  model = model.eval()\n",
    "  response_texts = []\n",
    "  predictions = []\n",
    "  prediction_probs = []\n",
    "  real_values = []\n",
    "\n",
    "  with torch.no_grad():\n",
    "    for d in data_loader:\n",
    "      texts = d[\"response\"]\n",
    "      input_ids = d[\"input_ids\"].to(device)\n",
    "      attention_mask = d[\"attention_mask\"].to(device)\n",
    "      targets = d[\"targets\"].to(device)\n",
    "      outputs = model(\n",
    "        input_ids=input_ids,\n",
    "        attention_mask=attention_mask\n",
    "      )\n",
    "\n",
    "      _, preds = torch.max(outputs, dim=1)\n",
    "\n",
    "      response_texts.extend(texts)\n",
    "      predictions.extend(preds)\n",
    "      prediction_probs.extend(outputs)\n",
    "      real_values.extend(targets)\n",
    "\n",
    "  predictions = torch.stack(predictions).cpu()\n",
    "  prediction_probs = torch.stack(prediction_probs).cpu()\n",
    "  real_values = torch.stack(real_values).cpu()\n",
    "  return response_texts, predictions, prediction_probs, real_values"
   ]
  },
  {
   "cell_type": "code",
   "execution_count": null,
   "metadata": {
    "colab": {
     "base_uri": "https://localhost:8080/"
    },
    "id": "yGUyG9Fvskek",
    "outputId": "bd628870-0a30-48b3-885c-bf941ac2853b"
   },
   "outputs": [],
   "source": [
    "y_response_text, y_pred, y_pred_probs, y_test = get_predictions(\n",
    "  model,\n",
    "  test_data_loader\n",
    ")"
   ]
  },
  {
   "cell_type": "code",
   "execution_count": null,
   "metadata": {
    "colab": {
     "base_uri": "https://localhost:8080/"
    },
    "id": "ZbuJ6ECfsyWb",
    "outputId": "3ff099d4-5612-453b-c7f6-26101b2fd28f"
   },
   "outputs": [],
   "source": [
    "print(classification_report(y_test, y_pred, target_names=class_names))"
   ]
  },
  {
   "cell_type": "code",
   "execution_count": null,
   "metadata": {
    "colab": {
     "base_uri": "https://localhost:8080/",
     "height": 536
    },
    "id": "4zcPPwcwa6sH",
    "outputId": "722956c3-da9e-44e1-f7c6-dd7dd5ada603"
   },
   "outputs": [],
   "source": [
    "def show_confusion_matrix(confusion_matrix):\n",
    "  hmap = sns.heatmap(confusion_matrix, annot=True, fmt=\"d\", cmap=\"Blues\")\n",
    "  hmap.yaxis.set_ticklabels(hmap.yaxis.get_ticklabels(), rotation=0, ha='right')\n",
    "  hmap.xaxis.set_ticklabels(hmap.xaxis.get_ticklabels(), rotation=30, ha='right')\n",
    "  plt.ylabel('True Concreteness')\n",
    "  plt.xlabel('Predicted Concreteness');\n",
    "cm = confusion_matrix(y_test, y_pred)\n",
    "df_cm = pd.DataFrame(cm, index=class_names, columns=class_names)\n",
    "show_confusion_matrix(df_cm)"
   ]
  },
  {
   "cell_type": "code",
   "execution_count": null,
   "metadata": {
    "colab": {
     "base_uri": "https://localhost:8080/",
     "height": 574
    },
    "id": "iYojMYrs18-o",
    "outputId": "630ad614-5a21-4ff2-bdaa-232e4794f975"
   },
   "outputs": [],
   "source": [
    "idx = 52\n",
    "response_text = y_response_text[idx]\n",
    "true_concreteness = y_test[idx]\n",
    "pred_df = pd.DataFrame({\n",
    "  'class_names': class_names,\n",
    "  'values': y_pred_probs[idx]\n",
    "})\n",
    "\n",
    "print(\"\\n\".join(wrap(response_text)))\n",
    "print()\n",
    "print(f'True Concreteness: {class_names[true_concreteness]}')\n",
    "\n",
    "sns.barplot(x='values', y='class_names', data=pred_df, orient='h')\n",
    "plt.ylabel('Concreteness')\n",
    "plt.xlabel('Probability')\n",
    "plt.xlim([0, 1]);"
   ]
  },
  {
   "cell_type": "markdown",
   "metadata": {
    "id": "RqRBkOBns4G8"
   },
   "source": [
    "# Predicting on raw text"
   ]
  },
  {
   "cell_type": "code",
   "execution_count": null,
   "metadata": {
    "id": "bs4zveb-s5eE"
   },
   "outputs": [],
   "source": [
    "response_text = \"Mr Mackay can recall an instance where he was visiting a three-bedroom home in Victoria Park and another renter offered an additional $80 a week on top of the advertised price off the cuff.\""
   ]
  },
  {
   "cell_type": "code",
   "execution_count": null,
   "metadata": {
    "id": "tD565TQns7Mm"
   },
   "outputs": [],
   "source": [
    "encoded_review = tokenizer.encode_plus(\n",
    "      response_text,\n",
    "      add_special_tokens=True,\n",
    "      max_length=MAX_LEN,\n",
    "      return_token_type_ids=False,\n",
    "      padding='max_length',\n",
    "      return_attention_mask=True,\n",
    "      return_tensors='pt',\n",
    "      truncation=True\n",
    "    )"
   ]
  },
  {
   "cell_type": "code",
   "execution_count": null,
   "metadata": {
    "colab": {
     "base_uri": "https://localhost:8080/"
    },
    "id": "NpCiWtEGs8WR",
    "outputId": "bd3f8185-13cc-4cf2-fa6d-4e353effe7e3"
   },
   "outputs": [],
   "source": [
    "input_ids = encoded_review['input_ids'].to(device)\n",
    "attention_mask = encoded_review['attention_mask'].to(device)\n",
    "output = model(input_ids, attention_mask)\n",
    "_, prediction = torch.max(output, dim=1)\n",
    "\n",
    "print(f'Review text: {response_text}')\n",
    "print(f'Concreteness  : {class_names[prediction]}')"
   ]
  }
 ],
 "metadata": {
  "accelerator": "GPU",
  "colab": {
   "collapsed_sections": [],
   "name": "CARE_NLPConcretenessPrediction.ipynb",
   "provenance": [],
   "toc_visible": true
  },
  "kernelspec": {
   "display_name": "Python 3",
   "language": "python",
   "name": "python3"
  },
  "language_info": {
   "codemirror_mode": {
    "name": "ipython",
    "version": 3
   },
   "file_extension": ".py",
   "mimetype": "text/x-python",
   "name": "python",
   "nbconvert_exporter": "python",
   "pygments_lexer": "ipython3",
   "version": "3.8.8"
  }
 },
 "nbformat": 4,
 "nbformat_minor": 4
}
