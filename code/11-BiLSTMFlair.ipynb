{
 "cells": [
  {
   "cell_type": "markdown",
   "metadata": {},
   "source": [
    "Main resource: https://github.com/flairNLP/flair/blob/master/resources/docs/TUTORIAL_7_TRAINING_A_MODEL.md"
   ]
  },
  {
   "cell_type": "markdown",
   "metadata": {},
   "source": [
    "# Flair import"
   ]
  },
  {
   "cell_type": "code",
   "execution_count": 1,
   "metadata": {},
   "outputs": [
    {
     "name": "stdout",
     "output_type": "stream",
     "text": [
      "2021-04-26 19:18:27,014 loading file C:\\Users\\magab\\.flair\\models\\sentiment-en-mix-distillbert_4.pt\n"
     ]
    }
   ],
   "source": [
    "from flair.models import TextClassifier\n",
    "from flair.data import Sentence\n",
    "classifier = TextClassifier.load('en-sentiment')"
   ]
  },
  {
   "cell_type": "code",
   "execution_count": 2,
   "metadata": {},
   "outputs": [
    {
     "name": "stdout",
     "output_type": "stream",
     "text": [
      "Sentence above is:  [POSITIVE (0.993)]\n"
     ]
    }
   ],
   "source": [
    "sentence = Sentence('Flair is nice')\n",
    "classifier.predict(sentence)\n",
    "\n",
    "# print sentence with predicted labels\n",
    "print('Sentence above is: ', sentence.labels)"
   ]
  },
  {
   "cell_type": "code",
   "execution_count": 3,
   "metadata": {},
   "outputs": [
    {
     "name": "stdout",
     "output_type": "stream",
     "text": [
      "cuda\n"
     ]
    }
   ],
   "source": [
    "import flair\n",
    "import numpy as np\n",
    "import pandas as pd\n",
    "import torch\n",
    "\n",
    "device = torch.device(\"cuda\" if torch.cuda.is_available() else \"cpu\")\n",
    "flair.device = device\n",
    "\n",
    "print(flair.device)"
   ]
  },
  {
   "cell_type": "code",
   "execution_count": 4,
   "metadata": {},
   "outputs": [
    {
     "name": "stdout",
     "output_type": "stream",
     "text": [
      "1.7.1+cu110\n"
     ]
    }
   ],
   "source": [
    "print(torch.__version__)"
   ]
  },
  {
   "cell_type": "code",
   "execution_count": 5,
   "metadata": {},
   "outputs": [
    {
     "name": "stdout",
     "output_type": "stream",
     "text": [
      "2021-04-26 19:18:36,631 Reading data from ..\\data\\corpus_10042021\n",
      "2021-04-26 19:18:36,632 Train: ..\\data\\corpus_10042021\\train.csv\n",
      "2021-04-26 19:18:36,633 Dev: ..\\data\\corpus_10042021\\dev.csv\n",
      "2021-04-26 19:18:36,633 Test: ..\\data\\corpus_10042021\\test.csv\n",
      "2021-04-26 19:18:36,670 Computing label dictionary. Progress:\n"
     ]
    },
    {
     "name": "stderr",
     "output_type": "stream",
     "text": [
      "100%|██████████████████████████████████████████████████████████████████████████████████| 976/976 [00:01<00:00, 872.01it/s]"
     ]
    },
    {
     "name": "stdout",
     "output_type": "stream",
     "text": [
      "2021-04-26 19:18:55,324 [b'High', b'Low', b'Medium']\n",
      "Dictionary with 3 tags: High, Low, Medium\n"
     ]
    },
    {
     "name": "stderr",
     "output_type": "stream",
     "text": [
      "\n"
     ]
    }
   ],
   "source": [
    "from flair.data import Corpus\n",
    "from flair.datasets import CSVClassificationCorpus\n",
    "from flair.embeddings import WordEmbeddings, FlairEmbeddings, StackedEmbeddings, DocumentRNNEmbeddings\n",
    "from flair.models import TextClassifier\n",
    "from flair.trainers import ModelTrainer\n",
    "\n",
    "data_folder = '../data/corpus_10042021'\n",
    "column_name_map = {1: \"text\", 2: \"label_topic\"}\n",
    "\n",
    "# 1. get the corpus\n",
    "corpus: Corpus = CSVClassificationCorpus(data_folder,\n",
    "                                         column_name_map,\n",
    "                                         skip_header=True) \n",
    "\n",
    "# 2. create the label dictionary\n",
    "label_dict = corpus.make_label_dictionary()\n",
    "\n",
    "print(label_dict)"
   ]
  },
  {
   "cell_type": "code",
   "execution_count": 6,
   "metadata": {},
   "outputs": [
    {
     "name": "stdout",
     "output_type": "stream",
     "text": [
      "2021-04-26 19:18:58,429 ----------------------------------------------------------------------------------------------------\n",
      "2021-04-26 19:18:58,430 Model: \"TextClassifier(\n",
      "  (document_embeddings): DocumentRNNEmbeddings(\n",
      "    (embeddings): StackedEmbeddings(\n",
      "      (list_embedding_0): WordEmbeddings('glove')\n",
      "      (list_embedding_1): FlairEmbeddings(\n",
      "        (lm): LanguageModel(\n",
      "          (drop): Dropout(p=0.05, inplace=False)\n",
      "          (encoder): Embedding(300, 100)\n",
      "          (rnn): LSTM(100, 2048)\n",
      "          (decoder): Linear(in_features=2048, out_features=300, bias=True)\n",
      "        )\n",
      "      )\n",
      "      (list_embedding_2): FlairEmbeddings(\n",
      "        (lm): LanguageModel(\n",
      "          (drop): Dropout(p=0.05, inplace=False)\n",
      "          (encoder): Embedding(300, 100)\n",
      "          (rnn): LSTM(100, 2048)\n",
      "          (decoder): Linear(in_features=2048, out_features=300, bias=True)\n",
      "        )\n",
      "      )\n",
      "    )\n",
      "    (word_reprojection_map): Linear(in_features=4196, out_features=4196, bias=True)\n",
      "    (rnn): LSTM(4196, 256, batch_first=True, bidirectional=True)\n",
      "    (dropout): Dropout(p=0.5, inplace=False)\n",
      "  )\n",
      "  (decoder): Linear(in_features=1024, out_features=3, bias=True)\n",
      "  (loss_function): CrossEntropyLoss()\n",
      "  (beta): 1.0\n",
      "  (weights): None\n",
      "  (weight_tensor) None\n",
      ")\"\n",
      "2021-04-26 19:18:58,430 ----------------------------------------------------------------------------------------------------\n",
      "2021-04-26 19:18:58,431 Corpus: \"Corpus: 867 train + 108 dev + 109 test sentences\"\n",
      "2021-04-26 19:18:58,431 ----------------------------------------------------------------------------------------------------\n",
      "2021-04-26 19:18:58,432 Parameters:\n",
      "2021-04-26 19:18:58,433  - learning_rate: \"0.1\"\n",
      "2021-04-26 19:18:58,433  - mini_batch_size: \"32\"\n",
      "2021-04-26 19:18:58,434  - patience: \"3\"\n",
      "2021-04-26 19:18:58,435  - anneal_factor: \"0.5\"\n",
      "2021-04-26 19:18:58,435  - max_epochs: \"10\"\n",
      "2021-04-26 19:18:58,436  - shuffle: \"True\"\n",
      "2021-04-26 19:18:58,436  - train_with_dev: \"True\"\n",
      "2021-04-26 19:18:58,437  - batch_growth_annealing: \"False\"\n",
      "2021-04-26 19:18:58,437 ----------------------------------------------------------------------------------------------------\n",
      "2021-04-26 19:18:58,438 Model training base path: \"flair\\bilstm\"\n",
      "2021-04-26 19:18:58,439 ----------------------------------------------------------------------------------------------------\n",
      "2021-04-26 19:18:58,439 Device: cuda\n",
      "2021-04-26 19:18:58,440 ----------------------------------------------------------------------------------------------------\n",
      "2021-04-26 19:18:58,440 Embeddings storage mode: gpu\n",
      "2021-04-26 19:18:58,442 ----------------------------------------------------------------------------------------------------\n",
      "2021-04-26 19:19:15,056 epoch 1 - iter 3/31 - loss 1.13596570 - samples/sec: 30.23 - lr: 0.100000\n",
      "2021-04-26 19:19:17,746 epoch 1 - iter 6/31 - loss 1.13767085 - samples/sec: 36.04 - lr: 0.100000\n",
      "2021-04-26 19:19:20,374 epoch 1 - iter 9/31 - loss 1.15974173 - samples/sec: 40.10 - lr: 0.100000\n",
      "2021-04-26 19:19:23,668 epoch 1 - iter 12/31 - loss 1.16022707 - samples/sec: 29.38 - lr: 0.100000\n",
      "2021-04-26 19:19:26,901 epoch 1 - iter 15/31 - loss 1.17511422 - samples/sec: 32.37 - lr: 0.100000\n",
      "2021-04-26 19:19:29,197 epoch 1 - iter 18/31 - loss 1.15791268 - samples/sec: 42.23 - lr: 0.100000\n",
      "2021-04-26 19:19:34,499 epoch 1 - iter 21/31 - loss 1.14892202 - samples/sec: 18.21 - lr: 0.100000\n",
      "2021-04-26 19:19:37,587 epoch 1 - iter 24/31 - loss 1.15068330 - samples/sec: 31.40 - lr: 0.100000\n",
      "2021-04-26 19:19:40,856 epoch 1 - iter 27/31 - loss 1.14482210 - samples/sec: 29.61 - lr: 0.100000\n",
      "2021-04-26 19:19:44,672 epoch 1 - iter 30/31 - loss 1.15184995 - samples/sec: 27.02 - lr: 0.100000\n",
      "2021-04-26 19:19:46,789 ----------------------------------------------------------------------------------------------------\n",
      "2021-04-26 19:19:46,790 EPOCH 1 done: loss 1.1466 - lr 0.1000000\n",
      "2021-04-26 19:19:55,484 TEST : loss 1.2401950359344482 - score 0.422\n",
      "2021-04-26 19:19:55,715 BAD EPOCHS (no improvement): 0\n",
      "2021-04-26 19:19:55,716 ----------------------------------------------------------------------------------------------------\n",
      "2021-04-26 19:20:11,919 epoch 2 - iter 3/31 - loss 1.21313381 - samples/sec: 41.09 - lr: 0.100000\n",
      "2021-04-26 19:20:15,506 epoch 2 - iter 6/31 - loss 1.15121493 - samples/sec: 26.77 - lr: 0.100000\n",
      "2021-04-26 19:20:18,088 epoch 2 - iter 9/31 - loss 1.11972620 - samples/sec: 42.10 - lr: 0.100000\n",
      "2021-04-26 19:20:22,173 epoch 2 - iter 12/31 - loss 1.10580662 - samples/sec: 23.51 - lr: 0.100000\n",
      "2021-04-26 19:20:25,451 epoch 2 - iter 15/31 - loss 1.10679314 - samples/sec: 32.15 - lr: 0.100000\n",
      "2021-04-26 19:20:29,785 epoch 2 - iter 18/31 - loss 1.11444109 - samples/sec: 22.16 - lr: 0.100000\n",
      "2021-04-26 19:20:32,959 epoch 2 - iter 21/31 - loss 1.11087258 - samples/sec: 30.76 - lr: 0.100000\n",
      "2021-04-26 19:20:36,096 epoch 2 - iter 24/31 - loss 1.11389558 - samples/sec: 30.61 - lr: 0.100000\n",
      "2021-04-26 19:20:40,632 epoch 2 - iter 27/31 - loss 1.11013720 - samples/sec: 21.41 - lr: 0.100000\n",
      "2021-04-26 19:20:42,953 epoch 2 - iter 30/31 - loss 1.10310507 - samples/sec: 41.38 - lr: 0.100000\n",
      "2021-04-26 19:20:44,040 ----------------------------------------------------------------------------------------------------\n",
      "2021-04-26 19:20:44,040 EPOCH 2 done: loss 1.1023 - lr 0.1000000\n",
      "2021-04-26 19:20:53,392 TEST : loss 1.1059253215789795 - score 0.422\n",
      "2021-04-26 19:20:53,630 BAD EPOCHS (no improvement): 0\n",
      "2021-04-26 19:20:53,631 ----------------------------------------------------------------------------------------------------\n",
      "2021-04-26 19:21:11,073 epoch 3 - iter 3/31 - loss 1.10308627 - samples/sec: 27.26 - lr: 0.100000\n",
      "2021-04-26 19:21:15,115 epoch 3 - iter 6/31 - loss 1.12147973 - samples/sec: 23.81 - lr: 0.100000\n",
      "2021-04-26 19:21:17,519 epoch 3 - iter 9/31 - loss 1.11261115 - samples/sec: 40.65 - lr: 0.100000\n",
      "2021-04-26 19:21:21,273 epoch 3 - iter 12/31 - loss 1.10392976 - samples/sec: 27.61 - lr: 0.100000\n",
      "2021-04-26 19:21:24,294 epoch 3 - iter 15/31 - loss 1.11043850 - samples/sec: 32.27 - lr: 0.100000\n",
      "2021-04-26 19:21:27,699 epoch 3 - iter 18/31 - loss 1.10932908 - samples/sec: 28.26 - lr: 0.100000\n",
      "2021-04-26 19:21:32,056 epoch 3 - iter 21/31 - loss 1.12001402 - samples/sec: 23.64 - lr: 0.100000\n",
      "2021-04-26 19:21:35,291 epoch 3 - iter 24/31 - loss 1.11360313 - samples/sec: 29.78 - lr: 0.100000\n",
      "2021-04-26 19:21:38,056 epoch 3 - iter 27/31 - loss 1.11142470 - samples/sec: 38.96 - lr: 0.100000\n",
      "2021-04-26 19:21:40,126 epoch 3 - iter 30/31 - loss 1.10788477 - samples/sec: 46.57 - lr: 0.100000\n",
      "2021-04-26 19:21:40,964 ----------------------------------------------------------------------------------------------------\n",
      "2021-04-26 19:21:40,965 EPOCH 3 done: loss 1.1089 - lr 0.1000000\n",
      "2021-04-26 19:21:49,865 TEST : loss 1.135754108428955 - score 0.2936\n",
      "2021-04-26 19:21:50,113 BAD EPOCHS (no improvement): 1\n",
      "2021-04-26 19:21:50,115 ----------------------------------------------------------------------------------------------------\n",
      "2021-04-26 19:22:05,383 epoch 4 - iter 3/31 - loss 1.08304274 - samples/sec: 53.99 - lr: 0.100000\n",
      "2021-04-26 19:22:08,127 epoch 4 - iter 6/31 - loss 1.06397867 - samples/sec: 35.23 - lr: 0.100000\n",
      "2021-04-26 19:22:13,239 epoch 4 - iter 9/31 - loss 1.07949034 - samples/sec: 19.89 - lr: 0.100000\n",
      "2021-04-26 19:22:16,835 epoch 4 - iter 12/31 - loss 1.08787717 - samples/sec: 26.90 - lr: 0.100000\n",
      "2021-04-26 19:22:19,601 epoch 4 - iter 15/31 - loss 1.08620721 - samples/sec: 39.02 - lr: 0.100000\n",
      "2021-04-26 19:22:22,339 epoch 4 - iter 18/31 - loss 1.09429236 - samples/sec: 35.38 - lr: 0.100000\n",
      "2021-04-26 19:22:25,862 epoch 4 - iter 21/31 - loss 1.09820181 - samples/sec: 27.48 - lr: 0.100000\n",
      "2021-04-26 19:22:29,655 epoch 4 - iter 24/31 - loss 1.09591019 - samples/sec: 27.24 - lr: 0.100000\n",
      "2021-04-26 19:22:32,956 epoch 4 - iter 27/31 - loss 1.09797713 - samples/sec: 29.35 - lr: 0.100000\n",
      "2021-04-26 19:22:36,265 epoch 4 - iter 30/31 - loss 1.09682077 - samples/sec: 31.76 - lr: 0.100000\n",
      "2021-04-26 19:22:37,177 ----------------------------------------------------------------------------------------------------\n",
      "2021-04-26 19:22:37,178 EPOCH 4 done: loss 1.0979 - lr 0.1000000\n",
      "2021-04-26 19:22:46,279 TEST : loss 1.1212960481643677 - score 0.3303\n",
      "2021-04-26 19:22:46,518 BAD EPOCHS (no improvement): 0\n",
      "2021-04-26 19:22:46,519 ----------------------------------------------------------------------------------------------------\n",
      "2021-04-26 19:23:04,569 epoch 5 - iter 3/31 - loss 1.10105419 - samples/sec: 23.82 - lr: 0.100000\n",
      "2021-04-26 19:23:08,704 epoch 5 - iter 6/31 - loss 1.08454497 - samples/sec: 23.33 - lr: 0.100000\n",
      "2021-04-26 19:23:12,081 epoch 5 - iter 9/31 - loss 1.06592531 - samples/sec: 30.95 - lr: 0.100000\n",
      "2021-04-26 19:23:15,595 epoch 5 - iter 12/31 - loss 1.05868004 - samples/sec: 27.44 - lr: 0.100000\n",
      "2021-04-26 19:23:18,180 epoch 5 - iter 15/31 - loss 1.05356384 - samples/sec: 37.65 - lr: 0.100000\n",
      "2021-04-26 19:23:22,221 epoch 5 - iter 18/31 - loss 1.05746059 - samples/sec: 25.57 - lr: 0.100000\n",
      "2021-04-26 19:23:24,999 epoch 5 - iter 21/31 - loss 1.06218971 - samples/sec: 34.98 - lr: 0.100000\n",
      "2021-04-26 19:23:28,687 epoch 5 - iter 24/31 - loss 1.06306095 - samples/sec: 26.16 - lr: 0.100000\n",
      "2021-04-26 19:23:32,044 epoch 5 - iter 27/31 - loss 1.06203964 - samples/sec: 28.87 - lr: 0.100000\n",
      "2021-04-26 19:23:34,619 epoch 5 - iter 30/31 - loss 1.06541328 - samples/sec: 37.52 - lr: 0.100000\n",
      "2021-04-26 19:23:35,454 ----------------------------------------------------------------------------------------------------\n",
      "2021-04-26 19:23:35,455 EPOCH 5 done: loss 1.0624 - lr 0.1000000\n",
      "2021-04-26 19:23:44,365 TEST : loss 1.1184802055358887 - score 0.3394\n",
      "2021-04-26 19:23:44,600 BAD EPOCHS (no improvement): 0\n",
      "2021-04-26 19:23:44,601 ----------------------------------------------------------------------------------------------------\n",
      "2021-04-26 19:24:00,862 epoch 6 - iter 3/31 - loss 1.06600070 - samples/sec: 32.12 - lr: 0.100000\n",
      "2021-04-26 19:24:04,552 epoch 6 - iter 6/31 - loss 1.04778863 - samples/sec: 28.27 - lr: 0.100000\n",
      "2021-04-26 19:24:07,727 epoch 6 - iter 9/31 - loss 1.03480602 - samples/sec: 30.53 - lr: 0.100000\n",
      "2021-04-26 19:24:10,439 epoch 6 - iter 12/31 - loss 1.04931707 - samples/sec: 35.75 - lr: 0.100000\n",
      "2021-04-26 19:24:13,996 epoch 6 - iter 15/31 - loss 1.04854765 - samples/sec: 29.35 - lr: 0.100000\n",
      "2021-04-26 19:24:17,637 epoch 6 - iter 18/31 - loss 1.05335307 - samples/sec: 26.58 - lr: 0.100000\n",
      "2021-04-26 19:24:20,966 epoch 6 - iter 21/31 - loss 1.05205283 - samples/sec: 29.10 - lr: 0.100000\n",
      "2021-04-26 19:24:23,491 epoch 6 - iter 24/31 - loss 1.05713678 - samples/sec: 38.41 - lr: 0.100000\n",
      "2021-04-26 19:24:27,423 epoch 6 - iter 27/31 - loss 1.06748682 - samples/sec: 24.60 - lr: 0.100000\n",
      "2021-04-26 19:24:29,755 epoch 6 - iter 30/31 - loss 1.06791619 - samples/sec: 41.63 - lr: 0.100000\n",
      "2021-04-26 19:24:30,672 ----------------------------------------------------------------------------------------------------\n",
      "2021-04-26 19:24:30,673 EPOCH 6 done: loss 1.0696 - lr 0.1000000\n",
      "2021-04-26 19:24:39,808 TEST : loss 1.095852017402649 - score 0.3761\n",
      "2021-04-26 19:24:40,044 BAD EPOCHS (no improvement): 1\n",
      "2021-04-26 19:24:40,045 ----------------------------------------------------------------------------------------------------\n",
      "2021-04-26 19:24:55,747 epoch 7 - iter 3/31 - loss 1.06080182 - samples/sec: 40.22 - lr: 0.100000\n",
      "2021-04-26 19:24:58,723 epoch 7 - iter 6/31 - loss 1.05304006 - samples/sec: 32.27 - lr: 0.100000\n",
      "2021-04-26 19:25:01,648 epoch 7 - iter 9/31 - loss 1.05380148 - samples/sec: 33.45 - lr: 0.100000\n",
      "2021-04-26 19:25:06,236 epoch 7 - iter 12/31 - loss 1.05164050 - samples/sec: 20.93 - lr: 0.100000\n",
      "2021-04-26 19:25:08,919 epoch 7 - iter 15/31 - loss 1.05957737 - samples/sec: 40.05 - lr: 0.100000\n",
      "2021-04-26 19:25:12,713 epoch 7 - iter 18/31 - loss 1.05854763 - samples/sec: 25.30 - lr: 0.100000\n",
      "2021-04-26 19:25:15,490 epoch 7 - iter 21/31 - loss 1.05278502 - samples/sec: 35.25 - lr: 0.100000\n",
      "2021-04-26 19:25:19,174 epoch 7 - iter 24/31 - loss 1.06014277 - samples/sec: 26.05 - lr: 0.100000\n",
      "2021-04-26 19:25:22,055 epoch 7 - iter 27/31 - loss 1.05798032 - samples/sec: 33.93 - lr: 0.100000\n",
      "2021-04-26 19:25:24,675 epoch 7 - iter 30/31 - loss 1.06019802 - samples/sec: 36.65 - lr: 0.100000\n",
      "2021-04-26 19:25:26,124 ----------------------------------------------------------------------------------------------------\n",
      "2021-04-26 19:25:26,125 EPOCH 7 done: loss 1.0595 - lr 0.1000000\n",
      "2021-04-26 19:25:34,771 TEST : loss 1.1038439273834229 - score 0.4128\n",
      "2021-04-26 19:25:35,000 BAD EPOCHS (no improvement): 0\n",
      "2021-04-26 19:25:35,001 ----------------------------------------------------------------------------------------------------\n",
      "2021-04-26 19:25:50,972 epoch 8 - iter 3/31 - loss 1.05209661 - samples/sec: 40.23 - lr: 0.100000\n",
      "2021-04-26 19:25:55,961 epoch 8 - iter 6/31 - loss 1.07355513 - samples/sec: 19.25 - lr: 0.100000\n",
      "2021-04-26 19:25:59,775 epoch 8 - iter 9/31 - loss 1.09838674 - samples/sec: 25.46 - lr: 0.100000\n",
      "2021-04-26 19:26:02,625 epoch 8 - iter 12/31 - loss 1.09527181 - samples/sec: 33.80 - lr: 0.100000\n",
      "2021-04-26 19:26:05,375 epoch 8 - iter 15/31 - loss 1.08978694 - samples/sec: 35.46 - lr: 0.100000\n",
      "2021-04-26 19:26:07,790 epoch 8 - iter 18/31 - loss 1.07354295 - samples/sec: 39.88 - lr: 0.100000\n",
      "2021-04-26 19:26:11,738 epoch 8 - iter 21/31 - loss 1.07365333 - samples/sec: 26.20 - lr: 0.100000\n",
      "2021-04-26 19:26:15,037 epoch 8 - iter 24/31 - loss 1.07171083 - samples/sec: 29.20 - lr: 0.100000\n",
      "2021-04-26 19:26:19,352 epoch 8 - iter 27/31 - loss 1.07241538 - samples/sec: 23.80 - lr: 0.100000\n",
      "2021-04-26 19:26:21,771 epoch 8 - iter 30/31 - loss 1.07056560 - samples/sec: 39.81 - lr: 0.100000\n",
      "2021-04-26 19:26:22,723 ----------------------------------------------------------------------------------------------------\n",
      "2021-04-26 19:26:22,724 EPOCH 8 done: loss 1.0702 - lr 0.1000000\n",
      "2021-04-26 19:26:31,469 TEST : loss 1.1270688772201538 - score 0.3853\n",
      "2021-04-26 19:26:31,705 BAD EPOCHS (no improvement): 1\n",
      "2021-04-26 19:26:31,707 ----------------------------------------------------------------------------------------------------\n",
      "2021-04-26 19:26:48,794 epoch 9 - iter 3/31 - loss 1.08268897 - samples/sec: 26.61 - lr: 0.100000\n",
      "2021-04-26 19:26:53,001 epoch 9 - iter 6/31 - loss 1.06986483 - samples/sec: 22.83 - lr: 0.100000\n",
      "2021-04-26 19:26:55,394 epoch 9 - iter 9/31 - loss 1.05074259 - samples/sec: 41.04 - lr: 0.100000\n",
      "2021-04-26 19:26:58,363 epoch 9 - iter 12/31 - loss 1.02883830 - samples/sec: 32.34 - lr: 0.100000\n",
      "2021-04-26 19:27:00,544 epoch 9 - iter 15/31 - loss 1.04318688 - samples/sec: 50.91 - lr: 0.100000\n",
      "2021-04-26 19:27:03,473 epoch 9 - iter 18/31 - loss 1.03916701 - samples/sec: 32.79 - lr: 0.100000\n",
      "2021-04-26 19:27:07,537 epoch 9 - iter 21/31 - loss 1.04441909 - samples/sec: 23.92 - lr: 0.100000\n",
      "2021-04-26 19:27:09,898 epoch 9 - iter 24/31 - loss 1.03970351 - samples/sec: 40.68 - lr: 0.100000\n",
      "2021-04-26 19:27:13,012 epoch 9 - iter 27/31 - loss 1.03371977 - samples/sec: 31.32 - lr: 0.100000\n",
      "2021-04-26 19:27:16,681 epoch 9 - iter 30/31 - loss 1.04071809 - samples/sec: 26.17 - lr: 0.100000\n",
      "2021-04-26 19:27:17,797 ----------------------------------------------------------------------------------------------------\n",
      "2021-04-26 19:27:17,798 EPOCH 9 done: loss 1.0424 - lr 0.1000000\n",
      "2021-04-26 19:27:26,348 TEST : loss 1.0966274738311768 - score 0.3853\n",
      "2021-04-26 19:27:26,587 BAD EPOCHS (no improvement): 0\n",
      "2021-04-26 19:27:26,589 ----------------------------------------------------------------------------------------------------\n",
      "2021-04-26 19:27:42,309 epoch 10 - iter 3/31 - loss 1.01895448 - samples/sec: 39.24 - lr: 0.100000\n",
      "2021-04-26 19:27:44,326 epoch 10 - iter 6/31 - loss 1.01542218 - samples/sec: 47.59 - lr: 0.100000\n",
      "2021-04-26 19:27:47,601 epoch 10 - iter 9/31 - loss 1.04142934 - samples/sec: 29.79 - lr: 0.100000\n",
      "2021-04-26 19:27:50,067 epoch 10 - iter 12/31 - loss 1.05409163 - samples/sec: 38.93 - lr: 0.100000\n",
      "2021-04-26 19:27:54,539 epoch 10 - iter 15/31 - loss 1.05322299 - samples/sec: 21.74 - lr: 0.100000\n",
      "2021-04-26 19:27:58,975 epoch 10 - iter 18/31 - loss 1.06069439 - samples/sec: 21.65 - lr: 0.100000\n",
      "2021-04-26 19:28:01,692 epoch 10 - iter 21/31 - loss 1.05157481 - samples/sec: 40.58 - lr: 0.100000\n",
      "2021-04-26 19:28:04,376 epoch 10 - iter 24/31 - loss 1.05220669 - samples/sec: 35.77 - lr: 0.100000\n",
      "2021-04-26 19:28:07,844 epoch 10 - iter 27/31 - loss 1.04608510 - samples/sec: 30.20 - lr: 0.100000\n",
      "2021-04-26 19:28:10,187 epoch 10 - iter 30/31 - loss 1.04300468 - samples/sec: 40.99 - lr: 0.100000\n",
      "2021-04-26 19:28:11,096 ----------------------------------------------------------------------------------------------------\n",
      "2021-04-26 19:28:11,097 EPOCH 10 done: loss 1.0444 - lr 0.1000000\n",
      "2021-04-26 19:28:20,034 TEST : loss 1.1220494508743286 - score 0.3303\n",
      "2021-04-26 19:28:20,266 BAD EPOCHS (no improvement): 1\n",
      "2021-04-26 19:28:23,691 ----------------------------------------------------------------------------------------------------\n",
      "2021-04-26 19:28:23,692 Testing using best model ...\n",
      "2021-04-26 19:28:32,386 \t0.3303\n",
      "2021-04-26 19:28:32,387 \n",
      "Results:\n",
      "- F-score (micro) 0.3303\n",
      "- F-score (macro) 0.2263\n",
      "- Accuracy 0.3303\n",
      "\n",
      "By class:\n",
      "              precision    recall  f1-score   support\n",
      "\n",
      "        High     0.0000    0.0000    0.0000        27\n",
      "         Low     0.3187    0.8056    0.4567        36\n",
      "      Medium     0.4118    0.1522    0.2222        46\n",
      "\n",
      "   micro avg     0.3303    0.3303    0.3303       109\n",
      "   macro avg     0.2435    0.3192    0.2263       109\n",
      "weighted avg     0.2790    0.3303    0.2446       109\n",
      " samples avg     0.3303    0.3303    0.3303       109\n",
      "\n",
      "2021-04-26 19:28:32,388 ----------------------------------------------------------------------------------------------------\n"
     ]
    },
    {
     "data": {
      "text/plain": [
       "{'test_score': 0.3303,\n",
       " 'dev_score_history': [],\n",
       " 'train_loss_history': [1.1466083507384024,\n",
       "  1.1023241569918971,\n",
       "  1.1088579912339487,\n",
       "  1.0979239075414595,\n",
       "  1.06239547844856,\n",
       "  1.0695928489008257,\n",
       "  1.0595164068283573,\n",
       "  1.0701790567367309,\n",
       "  1.0424021001785033,\n",
       "  1.0444190982849366],\n",
       " 'dev_loss_history': []}"
      ]
     },
     "execution_count": 6,
     "metadata": {},
     "output_type": "execute_result"
    }
   ],
   "source": [
    "# 3. make a list of word embeddings\n",
    "word_embeddings = [WordEmbeddings('glove'),\n",
    "                   FlairEmbeddings('news-forward'),\n",
    "                   FlairEmbeddings('news-backward')]\n",
    "\n",
    "# 4. initialize document embedding by passing list of word embeddings\n",
    "document_embeddings = DocumentRNNEmbeddings(word_embeddings, hidden_size=256, bidirectional=True,rnn_type=\"LSTM\")\n",
    "\n",
    "# 5. create the text classifier\n",
    "classifier = TextClassifier(document_embeddings, label_dictionary=label_dict)\n",
    "\n",
    "# 6. initialize the text classifier trainer\n",
    "trainer = ModelTrainer(classifier, corpus)\n",
    "\n",
    "# 7. start the training\n",
    "trainer.train('./flair/bilstm',\n",
    "              learning_rate=0.1,\n",
    "              mini_batch_size=32,\n",
    "              anneal_factor=0.5,\n",
    "              train_with_dev=True,\n",
    "              patience=3,\n",
    "              max_epochs=10,\n",
    "              monitor_test=True,\n",
    "              embeddings_storage_mode='gpu')"
   ]
  },
  {
   "cell_type": "code",
   "execution_count": 8,
   "metadata": {},
   "outputs": [
    {
     "name": "stdout",
     "output_type": "stream",
     "text": [
      "2021-04-26 19:55:37,526 ----------------------------------------------------------------------------------------------------\n",
      "2021-04-26 19:55:37,527 WARNING: No F1 found for test split in this data.\n",
      "2021-04-26 19:55:37,527 Are you sure you want to plot F1 and not another value?\n",
      "2021-04-26 19:55:37,528 ----------------------------------------------------------------------------------------------------\n"
     ]
    },
    {
     "name": "stderr",
     "output_type": "stream",
     "text": [
      "No handles with labels found to put in legend.\n"
     ]
    },
    {
     "name": "stdout",
     "output_type": "stream",
     "text": [
      "Loss and F1 plots are saved in flair\\bilstm\\training.png\n"
     ]
    },
    {
     "data": {
      "image/png": "[encoded data removed]",
      "text/plain": [
       "<Figure size 1080x720 with 2 Axes>"
      ]
     },
     "metadata": {
      "needs_background": "light"
     },
     "output_type": "display_data"
    }
   ],
   "source": [
    "# visualize\n",
    "from flair.visual.training_curves import Plotter\n",
    "plotter = Plotter()\n",
    "plotter.plot_training_curves('./flair/bilstm/loss.tsv')\n",
    "\n",
    "#This generates PNG plots in the result folder."
   ]
  },
  {
   "cell_type": "code",
   "execution_count": 41,
   "metadata": {},
   "outputs": [
    {
     "data": {
      "text/html": [
       "<div>\n",
       "<style scoped>\n",
       "    .dataframe tbody tr th:only-of-type {\n",
       "        vertical-align: middle;\n",
       "    }\n",
       "\n",
       "    .dataframe tbody tr th {\n",
       "        vertical-align: top;\n",
       "    }\n",
       "\n",
       "    .dataframe thead th {\n",
       "        text-align: right;\n",
       "    }\n",
       "</style>\n",
       "<table border=\"1\" class=\"dataframe\">\n",
       "  <thead>\n",
       "    <tr style=\"text-align: right;\">\n",
       "      <th></th>\n",
       "      <th>Unnamed: 0</th>\n",
       "      <th>Response</th>\n",
       "      <th>Concrete</th>\n",
       "    </tr>\n",
       "  </thead>\n",
       "  <tbody>\n",
       "    <tr>\n",
       "      <th>0</th>\n",
       "      <td>397</td>\n",
       "      <td>Feeling isolated  and very fearful  at beginni...</td>\n",
       "      <td>Medium</td>\n",
       "    </tr>\n",
       "    <tr>\n",
       "      <th>1</th>\n",
       "      <td>32</td>\n",
       "      <td>1. I feel isolated and lonely. \\n2. I call my ...</td>\n",
       "      <td>Medium</td>\n",
       "    </tr>\n",
       "    <tr>\n",
       "      <th>2</th>\n",
       "      <td>360</td>\n",
       "      <td>I make an effort to message people and suggest...</td>\n",
       "      <td>Low</td>\n",
       "    </tr>\n",
       "    <tr>\n",
       "      <th>3</th>\n",
       "      <td>321</td>\n",
       "      <td>I would like to feel more connected to other p...</td>\n",
       "      <td>Low</td>\n",
       "    </tr>\n",
       "    <tr>\n",
       "      <th>4</th>\n",
       "      <td>258</td>\n",
       "      <td>I take the time to write out a message to my f...</td>\n",
       "      <td>Medium</td>\n",
       "    </tr>\n",
       "  </tbody>\n",
       "</table>\n",
       "</div>"
      ],
      "text/plain": [
       "   Unnamed: 0                                           Response Concrete\n",
       "0         397  Feeling isolated  and very fearful  at beginni...   Medium\n",
       "1          32  1. I feel isolated and lonely. \\n2. I call my ...   Medium\n",
       "2         360  I make an effort to message people and suggest...      Low\n",
       "3         321  I would like to feel more connected to other p...      Low\n",
       "4         258  I take the time to write out a message to my f...   Medium"
      ]
     },
     "execution_count": 41,
     "metadata": {},
     "output_type": "execute_result"
    }
   ],
   "source": [
    "test_csv = pd.read_csv('../data/corpus_10042021/test.csv')\n",
    "test_csv.head()"
   ]
  },
  {
   "cell_type": "code",
   "execution_count": 49,
   "metadata": {},
   "outputs": [],
   "source": [
    "test_data = []\n",
    "target = []\n",
    "preds = []\n",
    "\n",
    "for i, item in test_csv.iterrows():\n",
    "    test_data.append(Sentence(item.Response))\n",
    "    target.append(item.Concrete)\n",
    "    \n",
    "classifier.predict(test_data, mini_batch_size=4)\n",
    "\n",
    "for item in test_data:\n",
    "    preds.append(item.labels[0].value)"
   ]
  },
  {
   "cell_type": "code",
   "execution_count": 66,
   "metadata": {},
   "outputs": [
    {
     "name": "stderr",
     "output_type": "stream",
     "text": [
      "C:\\Users\\magab\\AppData\\Roaming\\Python\\Python38\\site-packages\\sklearn\\utils\\validation.py:70: FutureWarning: Pass labels=['Low', 'Medium', 'High'] as keyword args. From version 1.0 (renaming of 0.25) passing these as positional arguments will result in an error\n",
      "  warnings.warn(f\"Pass {args_msg} as keyword args. From version \"\n"
     ]
    },
    {
     "data": {
      "text/plain": [
       "[Text(0, 0.5, 'Low'), Text(0, 1.5, 'Medium'), Text(0, 2.5, 'High')]"
      ]
     },
     "execution_count": 66,
     "metadata": {},
     "output_type": "execute_result"
    },
    {
     "data": {
      "image/png": "[encoded data removed]",
      "text/plain": [
       "<Figure size 432x288 with 2 Axes>"
      ]
     },
     "metadata": {
      "needs_background": "light"
     },
     "output_type": "display_data"
    }
   ],
   "source": [
    "from sklearn.metrics import confusion_matrix\n",
    "import matplotlib.pyplot as plt\n",
    "import seaborn as sns\n",
    "\n",
    "labels = ['Low', 'Medium', 'High']\n",
    "cm = confusion_matrix(target, preds, labels)\n",
    "\n",
    "ax= plt.subplot()\n",
    "sns.heatmap(cm, annot=True, fmt='g', ax=ax);  #annot=True to annotate cells, ftm='g' to disable scientific notation\n",
    "\n",
    "ax.set_xlabel('Predicted')\n",
    "ax.set_ylabel('True')\n",
    "ax.set_title('Confusion Matrix')\n",
    "ax.xaxis.set_ticklabels(labels)\n",
    "ax.yaxis.set_ticklabels(labels)"
   ]
  },
  {
   "cell_type": "code",
   "execution_count": 67,
   "metadata": {},
   "outputs": [
    {
     "name": "stdout",
     "output_type": "stream",
     "text": [
      "[[29  7  0]\n",
      " [38  7  1]\n",
      " [24  3  0]]\n"
     ]
    }
   ],
   "source": [
    "print(cm)"
   ]
  },
  {
   "cell_type": "code",
   "execution_count": null,
   "metadata": {},
   "outputs": [],
   "source": []
  },
  {
   "cell_type": "code",
   "execution_count": null,
   "metadata": {},
   "outputs": [],
   "source": []
  }
 ],
 "metadata": {
  "kernelspec": {
   "display_name": "Python 3",
   "language": "python",
   "name": "python3"
  },
  "language_info": {
   "codemirror_mode": {
    "name": "ipython",
    "version": 3
   },
   "file_extension": ".py",
   "mimetype": "text/x-python",
   "name": "python",
   "nbconvert_exporter": "python",
   "pygments_lexer": "ipython3",
   "version": "3.8.8"
  }
 },
 "nbformat": 4,
 "nbformat_minor": 4
}
