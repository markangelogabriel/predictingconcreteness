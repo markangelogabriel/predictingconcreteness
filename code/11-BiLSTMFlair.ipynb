{
 "cells": [
  {
   "cell_type": "markdown",
   "metadata": {},
   "source": [
    "Main resource: https://github.com/flairNLP/flair/blob/master/resources/docs/TUTORIAL_7_TRAINING_A_MODEL.md"
   ]
  },
  {
   "cell_type": "markdown",
   "metadata": {},
   "source": [
    "# Flair import"
   ]
  },
  {
   "cell_type": "code",
   "execution_count": 1,
   "metadata": {},
   "outputs": [
    {
     "name": "stdout",
     "output_type": "stream",
     "text": [
      "2021-04-12 00:25:39,641 loading file C:\\Users\\magab\\.flair\\models\\sentiment-en-mix-distillbert_4.pt\n"
     ]
    }
   ],
   "source": [
    "from flair.models import TextClassifier\n",
    "from flair.data import Sentence\n",
    "classifier = TextClassifier.load('en-sentiment')"
   ]
  },
  {
   "cell_type": "code",
   "execution_count": 2,
   "metadata": {},
   "outputs": [
    {
     "name": "stdout",
     "output_type": "stream",
     "text": [
      "Sentence above is:  [POSITIVE (0.993)]\n"
     ]
    }
   ],
   "source": [
    "sentence = Sentence('Flair is nice')\n",
    "classifier.predict(sentence)\n",
    "\n",
    "# print sentence with predicted labels\n",
    "print('Sentence above is: ', sentence.labels)"
   ]
  },
  {
   "cell_type": "code",
   "execution_count": 3,
   "metadata": {},
   "outputs": [
    {
     "name": "stdout",
     "output_type": "stream",
     "text": [
      "cuda\n"
     ]
    }
   ],
   "source": [
    "import flair\n",
    "import numpy as np\n",
    "import pandas as pd\n",
    "import torch\n",
    "\n",
    "device = torch.device(\"cuda\" if torch.cuda.is_available() else \"cpu\")\n",
    "flair.device = device\n",
    "\n",
    "print(flair.device)"
   ]
  },
  {
   "cell_type": "code",
   "execution_count": 4,
   "metadata": {},
   "outputs": [
    {
     "name": "stdout",
     "output_type": "stream",
     "text": [
      "1.7.1+cu110\n"
     ]
    }
   ],
   "source": [
    "print(torch.__version__)"
   ]
  },
  {
   "cell_type": "code",
   "execution_count": 7,
   "metadata": {},
   "outputs": [
    {
     "name": "stdout",
     "output_type": "stream",
     "text": [
      "2021-04-12 00:38:12,759 Reading data from ..\\data\\corpus_10042021\n",
      "2021-04-12 00:38:12,760 Train: ..\\data\\corpus_10042021\\train.csv\n",
      "2021-04-12 00:38:12,760 Dev: ..\\data\\corpus_10042021\\dev.csv\n",
      "2021-04-12 00:38:12,761 Test: ..\\data\\corpus_10042021\\test.csv\n",
      "2021-04-12 00:38:12,778 Computing label dictionary. Progress:\n"
     ]
    },
    {
     "name": "stderr",
     "output_type": "stream",
     "text": [
      "100%|███████████████████████████████████████████████████████████████████████████████████████████████████████████████████████████████████████████████████████████████████████████████████████████| 976/976 [00:00<00:00, 1033.67it/s]"
     ]
    },
    {
     "name": "stdout",
     "output_type": "stream",
     "text": [
      "2021-04-12 00:38:30,655 [b'High', b'Low', b'Medium']\n",
      "Dictionary with 3 tags: High, Low, Medium\n"
     ]
    },
    {
     "name": "stderr",
     "output_type": "stream",
     "text": [
      "\n"
     ]
    }
   ],
   "source": [
    "from flair.data import Corpus\n",
    "from flair.datasets import CSVClassificationCorpus\n",
    "from flair.embeddings import WordEmbeddings, FlairEmbeddings, StackedEmbeddings, DocumentRNNEmbeddings\n",
    "from flair.models import TextClassifier\n",
    "from flair.trainers import ModelTrainer\n",
    "\n",
    "data_folder = '../data/corpus_10042021'\n",
    "column_name_map = {1: \"text\", 2: \"label_topic\"}\n",
    "\n",
    "# 1. get the corpus\n",
    "corpus: Corpus = CSVClassificationCorpus(data_folder,\n",
    "                                         column_name_map,\n",
    "                                         skip_header=True) \n",
    "\n",
    "# 2. create the label dictionary\n",
    "label_dict = corpus.make_label_dictionary()\n",
    "\n",
    "print(label_dict)"
   ]
  },
  {
   "cell_type": "code",
   "execution_count": 9,
   "metadata": {},
   "outputs": [
    {
     "name": "stdout",
     "output_type": "stream",
     "text": [
      "2021-04-12 00:41:00,282 ----------------------------------------------------------------------------------------------------\n",
      "2021-04-12 00:41:00,282 Model: \"TextClassifier(\n",
      "  (document_embeddings): DocumentRNNEmbeddings(\n",
      "    (embeddings): StackedEmbeddings(\n",
      "      (list_embedding_0): WordEmbeddings('glove')\n",
      "      (list_embedding_1): FlairEmbeddings(\n",
      "        (lm): LanguageModel(\n",
      "          (drop): Dropout(p=0.05, inplace=False)\n",
      "          (encoder): Embedding(300, 100)\n",
      "          (rnn): LSTM(100, 2048)\n",
      "          (decoder): Linear(in_features=2048, out_features=300, bias=True)\n",
      "        )\n",
      "      )\n",
      "      (list_embedding_2): FlairEmbeddings(\n",
      "        (lm): LanguageModel(\n",
      "          (drop): Dropout(p=0.05, inplace=False)\n",
      "          (encoder): Embedding(300, 100)\n",
      "          (rnn): LSTM(100, 2048)\n",
      "          (decoder): Linear(in_features=2048, out_features=300, bias=True)\n",
      "        )\n",
      "      )\n",
      "    )\n",
      "    (word_reprojection_map): Linear(in_features=4196, out_features=4196, bias=True)\n",
      "    (rnn): GRU(4196, 256, batch_first=True)\n",
      "    (dropout): Dropout(p=0.5, inplace=False)\n",
      "  )\n",
      "  (decoder): Linear(in_features=256, out_features=3, bias=True)\n",
      "  (loss_function): CrossEntropyLoss()\n",
      "  (beta): 1.0\n",
      "  (weights): None\n",
      "  (weight_tensor) None\n",
      ")\"\n",
      "2021-04-12 00:41:00,283 ----------------------------------------------------------------------------------------------------\n",
      "2021-04-12 00:41:00,284 Corpus: \"Corpus: 867 train + 108 dev + 109 test sentences\"\n",
      "2021-04-12 00:41:00,284 ----------------------------------------------------------------------------------------------------\n",
      "2021-04-12 00:41:00,285 Parameters:\n",
      "2021-04-12 00:41:00,285  - learning_rate: \"0.1\"\n",
      "2021-04-12 00:41:00,286  - mini_batch_size: \"32\"\n",
      "2021-04-12 00:41:00,286  - patience: \"5\"\n",
      "2021-04-12 00:41:00,287  - anneal_factor: \"0.5\"\n",
      "2021-04-12 00:41:00,288  - max_epochs: \"10\"\n",
      "2021-04-12 00:41:00,288  - shuffle: \"True\"\n",
      "2021-04-12 00:41:00,289  - train_with_dev: \"False\"\n",
      "2021-04-12 00:41:00,289  - batch_growth_annealing: \"False\"\n",
      "2021-04-12 00:41:00,290 ----------------------------------------------------------------------------------------------------\n",
      "2021-04-12 00:41:00,290 Model training base path: \"flair\"\n",
      "2021-04-12 00:41:00,291 ----------------------------------------------------------------------------------------------------\n",
      "2021-04-12 00:41:00,292 Device: cuda\n",
      "2021-04-12 00:41:00,292 ----------------------------------------------------------------------------------------------------\n",
      "2021-04-12 00:41:00,292 Embeddings storage mode: cpu\n",
      "2021-04-12 00:41:00,294 ----------------------------------------------------------------------------------------------------\n",
      "2021-04-12 00:41:15,801 epoch 1 - iter 2/28 - loss 1.16603714 - samples/sec: 22.63 - lr: 0.100000\n",
      "2021-04-12 00:41:18,650 epoch 1 - iter 4/28 - loss 1.65427566 - samples/sec: 22.56 - lr: 0.100000\n",
      "2021-04-12 00:41:21,180 epoch 1 - iter 6/28 - loss 1.81872004 - samples/sec: 25.31 - lr: 0.100000\n",
      "2021-04-12 00:41:23,577 epoch 1 - iter 8/28 - loss 1.79718511 - samples/sec: 27.13 - lr: 0.100000\n",
      "2021-04-12 00:41:26,128 epoch 1 - iter 10/28 - loss 1.81221993 - samples/sec: 25.17 - lr: 0.100000\n",
      "2021-04-12 00:41:29,523 epoch 1 - iter 12/28 - loss 1.86268910 - samples/sec: 18.85 - lr: 0.100000\n",
      "2021-04-12 00:41:31,999 epoch 1 - iter 14/28 - loss 1.89234186 - samples/sec: 26.27 - lr: 0.100000\n",
      "2021-04-12 00:41:35,859 epoch 1 - iter 16/28 - loss 1.88876729 - samples/sec: 16.62 - lr: 0.100000\n",
      "2021-04-12 00:41:38,199 epoch 1 - iter 18/28 - loss 1.86770688 - samples/sec: 27.37 - lr: 0.100000\n",
      "2021-04-12 00:41:41,975 epoch 1 - iter 20/28 - loss 1.82604288 - samples/sec: 17.15 - lr: 0.100000\n",
      "2021-04-12 00:41:45,185 ----------------------------------------------------------------------------------------------------\n",
      "2021-04-12 00:41:45,186 Exiting from training early.\n",
      "2021-04-12 00:41:45,186 Saving model ...\n",
      "2021-04-12 00:41:48,458 Done.\n",
      "2021-04-12 00:41:48,459 ----------------------------------------------------------------------------------------------------\n",
      "2021-04-12 00:41:48,459 Testing using best model ...\n",
      "2021-04-12 00:41:48,460 loading file flair\\best-model.pt\n",
      "2021-04-12 00:41:56,439 \t0.4128\n",
      "2021-04-12 00:41:56,440 \n",
      "Results:\n",
      "- F-score (micro) 0.4128\n",
      "- F-score (macro) 0.1948\n",
      "- Accuracy 0.4128\n",
      "\n",
      "By class:\n",
      "              precision    recall  f1-score   support\n",
      "\n",
      "        High     0.0000    0.0000    0.0000        27\n",
      "         Low     0.0000    0.0000    0.0000        36\n",
      "      Medium     0.4167    0.9783    0.5844        46\n",
      "\n",
      "   micro avg     0.4128    0.4128    0.4128       109\n",
      "   macro avg     0.1389    0.3261    0.1948       109\n",
      "weighted avg     0.1758    0.4128    0.2466       109\n",
      " samples avg     0.4128    0.4128    0.4128       109\n",
      "\n",
      "2021-04-12 00:41:56,440 ----------------------------------------------------------------------------------------------------\n"
     ]
    },
    {
     "data": {
      "text/plain": [
       "{'test_score': 0.4128,\n",
       " 'dev_score_history': [],\n",
       " 'train_loss_history': [],\n",
       " 'dev_loss_history': []}"
      ]
     },
     "execution_count": 9,
     "metadata": {},
     "output_type": "execute_result"
    }
   ],
   "source": [
    "# 3. make a list of word embeddings\n",
    "word_embeddings = [WordEmbeddings('glove'),\n",
    "                   FlairEmbeddings('news-forward'),\n",
    "                   FlairEmbeddings('news-backward')]\n",
    "\n",
    "# 4. initialize document embedding by passing list of word embeddings\n",
    "document_embeddings = DocumentRNNEmbeddings(word_embeddings, hidden_size=256, bidirectional=True,rnn_type=\"LSTM\")\n",
    "\n",
    "# 5. create the text classifier\n",
    "classifier = TextClassifier(document_embeddings, label_dictionary=label_dict)\n",
    "\n",
    "# 6. initialize the text classifier trainer\n",
    "trainer = ModelTrainer(classifier, corpus)\n",
    "\n",
    "# 7. start the training\n",
    "trainer.train('./flair',\n",
    "              learning_rate=0.1,\n",
    "              mini_batch_size=32,\n",
    "              anneal_factor=0.5,\n",
    "              patience=5,\n",
    "              max_epochs=10)"
   ]
  },
  {
   "cell_type": "code",
   "execution_count": null,
   "metadata": {},
   "outputs": [],
   "source": []
  }
 ],
 "metadata": {
  "kernelspec": {
   "display_name": "Python 3",
   "language": "python",
   "name": "python3"
  },
  "language_info": {
   "codemirror_mode": {
    "name": "ipython",
    "version": 3
   },
   "file_extension": ".py",
   "mimetype": "text/x-python",
   "name": "python",
   "nbconvert_exporter": "python",
   "pygments_lexer": "ipython3",
   "version": "3.8.8"
  }
 },
 "nbformat": 4,
 "nbformat_minor": 4
}
