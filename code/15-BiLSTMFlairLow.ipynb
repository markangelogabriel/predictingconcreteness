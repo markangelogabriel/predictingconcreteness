{
 "cells": [
  {
   "cell_type": "markdown",
   "metadata": {},
   "source": [
    "Main resource: https://github.com/flairNLP/flair/blob/master/resources/docs/TUTORIAL_7_TRAINING_A_MODEL.md"
   ]
  },
  {
   "cell_type": "code",
   "execution_count": 8,
   "metadata": {},
   "outputs": [
    {
     "name": "stdout",
     "output_type": "stream",
     "text": [
      "cuda\n"
     ]
    }
   ],
   "source": [
    "import flair\n",
    "import numpy as np\n",
    "import pandas as pd\n",
    "import torch\n",
    "\n",
    "device = torch.device(\"cuda\" if torch.cuda.is_available() else \"cpu\")\n",
    "flair.device = device\n",
    "\n",
    "print(flair.device)"
   ]
  },
  {
   "cell_type": "code",
   "execution_count": 9,
   "metadata": {},
   "outputs": [
    {
     "name": "stdout",
     "output_type": "stream",
     "text": [
      "1.7.1+cu110\n"
     ]
    }
   ],
   "source": [
    "print(torch.__version__)"
   ]
  },
  {
   "cell_type": "code",
   "execution_count": 10,
   "metadata": {},
   "outputs": [
    {
     "name": "stdout",
     "output_type": "stream",
     "text": [
      "2021-04-26 20:51:07,022 Reading data from ..\\data\\corpuslow_13042021\n",
      "2021-04-26 20:51:07,023 Train: ..\\data\\corpuslow_13042021\\train.csv\n",
      "2021-04-26 20:51:07,023 Dev: ..\\data\\corpuslow_13042021\\dev.csv\n",
      "2021-04-26 20:51:07,024 Test: ..\\data\\corpuslow_13042021\\test.csv\n",
      "2021-04-26 20:51:07,064 Computing label dictionary. Progress:\n"
     ]
    },
    {
     "name": "stderr",
     "output_type": "stream",
     "text": [
      "100%|██████████████████████████████████████████████████████████████████████████████████| 976/976 [00:01<00:00, 624.81it/s]"
     ]
    },
    {
     "name": "stdout",
     "output_type": "stream",
     "text": [
      "2021-04-26 20:51:29,711 [b'0', b'1']\n",
      "Dictionary with 2 tags: 0, 1\n"
     ]
    },
    {
     "name": "stderr",
     "output_type": "stream",
     "text": [
      "\n"
     ]
    }
   ],
   "source": [
    "from flair.data import Corpus\n",
    "from flair.datasets import CSVClassificationCorpus\n",
    "from flair.embeddings import WordEmbeddings, FlairEmbeddings, StackedEmbeddings, DocumentRNNEmbeddings\n",
    "from flair.models import TextClassifier\n",
    "from flair.trainers import ModelTrainer\n",
    "\n",
    "data_folder = '../data/corpuslow_13042021'\n",
    "column_name_map = {1: \"text\", 2: \"label_topic\"}\n",
    "\n",
    "# 1. get the corpus\n",
    "corpus: Corpus = CSVClassificationCorpus(data_folder,\n",
    "                                         column_name_map,\n",
    "                                         skip_header=True) \n",
    "\n",
    "# 2. create the label dictionary\n",
    "label_dict = corpus.make_label_dictionary()\n",
    "\n",
    "print(label_dict)"
   ]
  },
  {
   "cell_type": "code",
   "execution_count": 11,
   "metadata": {},
   "outputs": [
    {
     "name": "stdout",
     "output_type": "stream",
     "text": [
      "2021-04-26 20:51:34,228 ----------------------------------------------------------------------------------------------------\n",
      "2021-04-26 20:51:34,229 Model: \"TextClassifier(\n",
      "  (document_embeddings): DocumentRNNEmbeddings(\n",
      "    (embeddings): StackedEmbeddings(\n",
      "      (list_embedding_0): WordEmbeddings('glove')\n",
      "      (list_embedding_1): FlairEmbeddings(\n",
      "        (lm): LanguageModel(\n",
      "          (drop): Dropout(p=0.05, inplace=False)\n",
      "          (encoder): Embedding(300, 100)\n",
      "          (rnn): LSTM(100, 2048)\n",
      "          (decoder): Linear(in_features=2048, out_features=300, bias=True)\n",
      "        )\n",
      "      )\n",
      "      (list_embedding_2): FlairEmbeddings(\n",
      "        (lm): LanguageModel(\n",
      "          (drop): Dropout(p=0.05, inplace=False)\n",
      "          (encoder): Embedding(300, 100)\n",
      "          (rnn): LSTM(100, 2048)\n",
      "          (decoder): Linear(in_features=2048, out_features=300, bias=True)\n",
      "        )\n",
      "      )\n",
      "    )\n",
      "    (word_reprojection_map): Linear(in_features=4196, out_features=4196, bias=True)\n",
      "    (rnn): LSTM(4196, 256, batch_first=True, bidirectional=True)\n",
      "    (dropout): Dropout(p=0.5, inplace=False)\n",
      "  )\n",
      "  (decoder): Linear(in_features=1024, out_features=2, bias=True)\n",
      "  (loss_function): CrossEntropyLoss()\n",
      "  (beta): 1.0\n",
      "  (weights): None\n",
      "  (weight_tensor) None\n",
      ")\"\n",
      "2021-04-26 20:51:34,230 ----------------------------------------------------------------------------------------------------\n",
      "2021-04-26 20:51:34,230 Corpus: \"Corpus: 867 train + 108 dev + 109 test sentences\"\n",
      "2021-04-26 20:51:34,231 ----------------------------------------------------------------------------------------------------\n",
      "2021-04-26 20:51:34,232 Parameters:\n",
      "2021-04-26 20:51:34,232  - learning_rate: \"0.1\"\n",
      "2021-04-26 20:51:34,233  - mini_batch_size: \"32\"\n",
      "2021-04-26 20:51:34,233  - patience: \"3\"\n",
      "2021-04-26 20:51:34,234  - anneal_factor: \"0.5\"\n",
      "2021-04-26 20:51:34,234  - max_epochs: \"10\"\n",
      "2021-04-26 20:51:34,235  - shuffle: \"True\"\n",
      "2021-04-26 20:51:34,236  - train_with_dev: \"True\"\n",
      "2021-04-26 20:51:34,236  - batch_growth_annealing: \"False\"\n",
      "2021-04-26 20:51:34,237 ----------------------------------------------------------------------------------------------------\n",
      "2021-04-26 20:51:34,237 Model training base path: \"flair\\bilstm_low\"\n",
      "2021-04-26 20:51:34,238 ----------------------------------------------------------------------------------------------------\n",
      "2021-04-26 20:51:34,239 Device: cuda\n",
      "2021-04-26 20:51:34,239 ----------------------------------------------------------------------------------------------------\n",
      "2021-04-26 20:51:34,240 Embeddings storage mode: gpu\n",
      "2021-04-26 20:51:34,242 ----------------------------------------------------------------------------------------------------\n",
      "2021-04-26 20:51:52,588 epoch 1 - iter 3/31 - loss 0.69074061 - samples/sec: 42.52 - lr: 0.100000\n",
      "2021-04-26 20:51:55,143 epoch 1 - iter 6/31 - loss 0.72078296 - samples/sec: 37.72 - lr: 0.100000\n",
      "2021-04-26 20:51:58,429 epoch 1 - iter 9/31 - loss 0.73046695 - samples/sec: 29.59 - lr: 0.100000\n",
      "2021-04-26 20:52:02,201 epoch 1 - iter 12/31 - loss 0.72830263 - samples/sec: 25.56 - lr: 0.100000\n",
      "2021-04-26 20:52:05,821 epoch 1 - iter 15/31 - loss 0.71234817 - samples/sec: 26.90 - lr: 0.100000\n",
      "2021-04-26 20:52:09,979 epoch 1 - iter 18/31 - loss 0.73603658 - samples/sec: 24.80 - lr: 0.100000\n",
      "2021-04-26 20:52:13,637 epoch 1 - iter 21/31 - loss 0.72550130 - samples/sec: 26.56 - lr: 0.100000\n",
      "2021-04-26 20:52:16,653 epoch 1 - iter 24/31 - loss 0.71176390 - samples/sec: 31.93 - lr: 0.100000\n",
      "2021-04-26 20:52:21,919 epoch 1 - iter 27/31 - loss 0.71381536 - samples/sec: 19.45 - lr: 0.100000\n",
      "2021-04-26 20:52:24,720 epoch 1 - iter 30/31 - loss 0.70771253 - samples/sec: 34.42 - lr: 0.100000\n",
      "2021-04-26 20:52:25,939 ----------------------------------------------------------------------------------------------------\n",
      "2021-04-26 20:52:25,940 EPOCH 1 done: loss 0.7040 - lr 0.1000000\n",
      "2021-04-26 20:52:33,595 TEST : loss 0.6804665327072144 - score 0.6789\n",
      "2021-04-26 20:52:33,794 BAD EPOCHS (no improvement): 0\n",
      "2021-04-26 20:52:33,795 ----------------------------------------------------------------------------------------------------\n",
      "2021-04-26 20:52:51,186 epoch 2 - iter 3/31 - loss 0.75520678 - samples/sec: 26.41 - lr: 0.100000\n",
      "2021-04-26 20:52:54,737 epoch 2 - iter 6/31 - loss 0.71018261 - samples/sec: 27.05 - lr: 0.100000\n",
      "2021-04-26 20:52:58,750 epoch 2 - iter 9/31 - loss 0.68014992 - samples/sec: 24.26 - lr: 0.100000\n",
      "2021-04-26 20:53:02,155 epoch 2 - iter 12/31 - loss 0.66395634 - samples/sec: 28.20 - lr: 0.100000\n",
      "2021-04-26 20:53:06,174 epoch 2 - iter 15/31 - loss 0.66654478 - samples/sec: 25.94 - lr: 0.100000\n",
      "2021-04-26 20:53:08,617 epoch 2 - iter 18/31 - loss 0.66245908 - samples/sec: 39.31 - lr: 0.100000\n",
      "2021-04-26 20:53:12,409 epoch 2 - iter 21/31 - loss 0.65015287 - samples/sec: 27.65 - lr: 0.100000\n",
      "2021-04-26 20:53:15,411 epoch 2 - iter 24/31 - loss 0.65223739 - samples/sec: 32.01 - lr: 0.100000\n",
      "2021-04-26 20:53:19,485 epoch 2 - iter 27/31 - loss 0.65159304 - samples/sec: 23.85 - lr: 0.100000\n",
      "2021-04-26 20:53:21,991 epoch 2 - iter 30/31 - loss 0.64336093 - samples/sec: 38.32 - lr: 0.100000\n",
      "2021-04-26 20:53:22,876 ----------------------------------------------------------------------------------------------------\n",
      "2021-04-26 20:53:22,876 EPOCH 2 done: loss 0.6427 - lr 0.1000000\n",
      "2021-04-26 20:53:30,441 TEST : loss 0.6685395240783691 - score 0.6789\n",
      "2021-04-26 20:53:30,641 BAD EPOCHS (no improvement): 0\n",
      "2021-04-26 20:53:30,642 ----------------------------------------------------------------------------------------------------\n",
      "2021-04-26 20:53:48,273 epoch 3 - iter 3/31 - loss 0.66142603 - samples/sec: 27.54 - lr: 0.100000\n",
      "2021-04-26 20:53:51,594 epoch 3 - iter 6/31 - loss 0.65619867 - samples/sec: 29.01 - lr: 0.100000\n",
      "2021-04-26 20:53:53,640 epoch 3 - iter 9/31 - loss 0.65504588 - samples/sec: 47.86 - lr: 0.100000\n",
      "2021-04-26 20:53:57,047 epoch 3 - iter 12/31 - loss 0.66078249 - samples/sec: 28.25 - lr: 0.100000\n",
      "2021-04-26 20:54:00,548 epoch 3 - iter 15/31 - loss 0.65335858 - samples/sec: 27.74 - lr: 0.100000\n",
      "2021-04-26 20:54:02,879 epoch 3 - iter 18/31 - loss 0.64824757 - samples/sec: 41.36 - lr: 0.100000\n",
      "2021-04-26 20:54:07,773 epoch 3 - iter 21/31 - loss 0.65152587 - samples/sec: 21.00 - lr: 0.100000\n",
      "2021-04-26 20:54:11,045 epoch 3 - iter 24/31 - loss 0.64231229 - samples/sec: 29.45 - lr: 0.100000\n",
      "2021-04-26 20:54:14,761 epoch 3 - iter 27/31 - loss 0.64312963 - samples/sec: 28.45 - lr: 0.100000\n",
      "2021-04-26 20:54:19,073 epoch 3 - iter 30/31 - loss 0.64103819 - samples/sec: 22.32 - lr: 0.100000\n",
      "2021-04-26 20:54:20,298 ----------------------------------------------------------------------------------------------------\n",
      "2021-04-26 20:54:20,299 EPOCH 3 done: loss 0.6450 - lr 0.1000000\n",
      "2021-04-26 20:54:27,819 TEST : loss 0.6534179449081421 - score 0.6606\n",
      "2021-04-26 20:54:28,016 BAD EPOCHS (no improvement): 1\n",
      "2021-04-26 20:54:28,018 ----------------------------------------------------------------------------------------------------\n",
      "2021-04-26 20:54:44,864 epoch 4 - iter 3/31 - loss 0.63758212 - samples/sec: 31.67 - lr: 0.100000\n",
      "2021-04-26 20:54:48,878 epoch 4 - iter 6/31 - loss 0.63924027 - samples/sec: 23.99 - lr: 0.100000\n",
      "2021-04-26 20:54:52,592 epoch 4 - iter 9/31 - loss 0.61805418 - samples/sec: 26.13 - lr: 0.100000\n",
      "2021-04-26 20:54:54,340 epoch 4 - iter 12/31 - loss 0.63207009 - samples/sec: 55.19 - lr: 0.100000\n",
      "2021-04-26 20:54:56,662 epoch 4 - iter 15/31 - loss 0.63288027 - samples/sec: 42.08 - lr: 0.100000\n",
      "2021-04-26 20:54:59,959 epoch 4 - iter 18/31 - loss 0.63979320 - samples/sec: 29.21 - lr: 0.100000\n",
      "2021-04-26 20:55:02,199 epoch 4 - iter 21/31 - loss 0.64066164 - samples/sec: 43.62 - lr: 0.100000\n",
      "2021-04-26 20:55:05,178 epoch 4 - iter 24/31 - loss 0.63989938 - samples/sec: 32.34 - lr: 0.100000\n",
      "2021-04-26 20:55:07,759 epoch 4 - iter 27/31 - loss 0.64069149 - samples/sec: 37.75 - lr: 0.100000\n",
      "2021-04-26 20:55:12,554 epoch 4 - iter 30/31 - loss 0.64319916 - samples/sec: 20.07 - lr: 0.100000\n",
      "2021-04-26 20:55:14,391 ----------------------------------------------------------------------------------------------------\n",
      "2021-04-26 20:55:14,393 EPOCH 4 done: loss 0.6421 - lr 0.1000000\n",
      "2021-04-26 20:55:22,034 TEST : loss 0.6349740028381348 - score 0.6789\n",
      "2021-04-26 20:55:22,233 BAD EPOCHS (no improvement): 0\n",
      "2021-04-26 20:55:22,234 ----------------------------------------------------------------------------------------------------\n",
      "2021-04-26 20:55:38,025 epoch 5 - iter 3/31 - loss 0.60910704 - samples/sec: 40.24 - lr: 0.100000\n",
      "2021-04-26 20:55:41,197 epoch 5 - iter 6/31 - loss 0.58778375 - samples/sec: 30.38 - lr: 0.100000\n",
      "2021-04-26 20:55:44,380 epoch 5 - iter 9/31 - loss 0.59076733 - samples/sec: 30.61 - lr: 0.100000\n",
      "2021-04-26 20:55:48,235 epoch 5 - iter 12/31 - loss 0.59710461 - samples/sec: 24.97 - lr: 0.100000\n",
      "2021-04-26 20:55:51,300 epoch 5 - iter 15/31 - loss 0.59944758 - samples/sec: 35.39 - lr: 0.100000\n",
      "2021-04-26 20:55:55,028 epoch 5 - iter 18/31 - loss 0.60073589 - samples/sec: 25.81 - lr: 0.100000\n",
      "2021-04-26 20:56:00,113 epoch 5 - iter 21/31 - loss 0.60498409 - samples/sec: 19.05 - lr: 0.100000\n",
      "2021-04-26 20:56:02,921 epoch 5 - iter 24/31 - loss 0.61194782 - samples/sec: 34.28 - lr: 0.100000\n",
      "2021-04-26 20:56:06,553 epoch 5 - iter 27/31 - loss 0.61382441 - samples/sec: 26.76 - lr: 0.100000\n",
      "2021-04-26 20:56:10,383 epoch 5 - iter 30/31 - loss 0.61911153 - samples/sec: 27.20 - lr: 0.100000\n",
      "2021-04-26 20:56:11,550 ----------------------------------------------------------------------------------------------------\n",
      "2021-04-26 20:56:11,551 EPOCH 5 done: loss 0.6235 - lr 0.1000000\n",
      "2021-04-26 20:56:19,243 TEST : loss 0.7795062065124512 - score 0.3303\n",
      "2021-04-26 20:56:19,441 BAD EPOCHS (no improvement): 0\n",
      "2021-04-26 20:56:19,442 ----------------------------------------------------------------------------------------------------\n",
      "2021-04-26 20:56:36,431 epoch 6 - iter 3/31 - loss 0.71834177 - samples/sec: 32.00 - lr: 0.100000\n",
      "2021-04-26 20:56:38,810 epoch 6 - iter 6/31 - loss 0.67917049 - samples/sec: 40.34 - lr: 0.100000\n",
      "2021-04-26 20:56:42,181 epoch 6 - iter 9/31 - loss 0.65382466 - samples/sec: 31.46 - lr: 0.100000\n",
      "2021-04-26 20:56:46,964 epoch 6 - iter 12/31 - loss 0.63476685 - samples/sec: 20.08 - lr: 0.100000\n",
      "2021-04-26 20:56:49,280 epoch 6 - iter 15/31 - loss 0.62928131 - samples/sec: 42.36 - lr: 0.100000\n",
      "2021-04-26 20:56:52,117 epoch 6 - iter 18/31 - loss 0.63002104 - samples/sec: 33.84 - lr: 0.100000\n",
      "2021-04-26 20:56:55,724 epoch 6 - iter 21/31 - loss 0.62696752 - samples/sec: 29.71 - lr: 0.100000\n",
      "2021-04-26 20:56:58,542 epoch 6 - iter 24/31 - loss 0.62846985 - samples/sec: 34.07 - lr: 0.100000\n",
      "2021-04-26 20:57:03,037 epoch 6 - iter 27/31 - loss 0.62818561 - samples/sec: 22.98 - lr: 0.100000\n",
      "2021-04-26 20:57:06,493 epoch 6 - iter 30/31 - loss 0.62818951 - samples/sec: 27.79 - lr: 0.100000\n",
      "2021-04-26 20:57:07,611 ----------------------------------------------------------------------------------------------------\n",
      "2021-04-26 20:57:07,612 EPOCH 6 done: loss 0.6296 - lr 0.1000000\n",
      "2021-04-26 20:57:15,220 TEST : loss 0.6464831233024597 - score 0.6789\n",
      "2021-04-26 20:57:15,420 BAD EPOCHS (no improvement): 1\n",
      "2021-04-26 20:57:15,421 ----------------------------------------------------------------------------------------------------\n",
      "2021-04-26 20:57:32,859 epoch 7 - iter 3/31 - loss 0.62410704 - samples/sec: 23.98 - lr: 0.100000\n",
      "2021-04-26 20:57:37,032 epoch 7 - iter 6/31 - loss 0.63339896 - samples/sec: 23.06 - lr: 0.100000\n",
      "2021-04-26 20:57:40,344 epoch 7 - iter 9/31 - loss 0.62275591 - samples/sec: 32.02 - lr: 0.100000\n",
      "2021-04-26 20:57:42,546 epoch 7 - iter 12/31 - loss 0.61565587 - samples/sec: 43.75 - lr: 0.100000\n",
      "2021-04-26 20:57:46,680 epoch 7 - iter 15/31 - loss 0.60737189 - samples/sec: 23.47 - lr: 0.100000\n",
      "2021-04-26 20:57:50,165 epoch 7 - iter 18/31 - loss 0.61516736 - samples/sec: 27.63 - lr: 0.100000\n",
      "2021-04-26 20:57:52,713 epoch 7 - iter 21/31 - loss 0.61569555 - samples/sec: 38.34 - lr: 0.100000\n",
      "2021-04-26 20:57:55,145 epoch 7 - iter 24/31 - loss 0.61509870 - samples/sec: 39.61 - lr: 0.100000\n",
      "2021-04-26 20:57:57,843 epoch 7 - iter 27/31 - loss 0.62164292 - samples/sec: 36.13 - lr: 0.100000\n",
      "2021-04-26 20:58:01,008 epoch 7 - iter 30/31 - loss 0.62159720 - samples/sec: 30.41 - lr: 0.100000\n",
      "2021-04-26 20:58:03,181 ----------------------------------------------------------------------------------------------------\n",
      "2021-04-26 20:58:03,182 EPOCH 7 done: loss 0.6209 - lr 0.1000000\n",
      "2021-04-26 20:58:11,141 TEST : loss 0.7094587087631226 - score 0.6789\n",
      "2021-04-26 20:58:11,338 BAD EPOCHS (no improvement): 0\n",
      "2021-04-26 20:58:11,339 ----------------------------------------------------------------------------------------------------\n",
      "2021-04-26 20:58:28,554 epoch 8 - iter 3/31 - loss 0.62577049 - samples/sec: 29.15 - lr: 0.100000\n",
      "2021-04-26 20:58:33,220 epoch 8 - iter 6/31 - loss 0.61881243 - samples/sec: 21.99 - lr: 0.100000\n",
      "2021-04-26 20:58:36,707 epoch 8 - iter 9/31 - loss 0.59923873 - samples/sec: 27.83 - lr: 0.100000\n",
      "2021-04-26 20:58:40,689 epoch 8 - iter 12/31 - loss 0.60223359 - samples/sec: 26.10 - lr: 0.100000\n",
      "2021-04-26 20:58:43,538 epoch 8 - iter 15/31 - loss 0.61232731 - samples/sec: 34.07 - lr: 0.100000\n",
      "2021-04-26 20:58:45,810 epoch 8 - iter 18/31 - loss 0.62085420 - samples/sec: 42.58 - lr: 0.100000\n",
      "2021-04-26 20:58:48,732 epoch 8 - iter 21/31 - loss 0.61892548 - samples/sec: 33.22 - lr: 0.100000\n",
      "2021-04-26 20:58:51,419 epoch 8 - iter 24/31 - loss 0.62260971 - samples/sec: 35.96 - lr: 0.100000\n",
      "2021-04-26 20:58:54,178 epoch 8 - iter 27/31 - loss 0.62703365 - samples/sec: 35.21 - lr: 0.100000\n",
      "2021-04-26 20:58:58,120 epoch 8 - iter 30/31 - loss 0.62058189 - samples/sec: 24.49 - lr: 0.100000\n",
      "2021-04-26 20:58:59,621 ----------------------------------------------------------------------------------------------------\n",
      "2021-04-26 20:58:59,621 EPOCH 8 done: loss 0.6187 - lr 0.1000000\n",
      "2021-04-26 20:59:07,058 TEST : loss 0.6739406585693359 - score 0.6789\n",
      "2021-04-26 20:59:07,256 BAD EPOCHS (no improvement): 0\n",
      "2021-04-26 20:59:07,257 ----------------------------------------------------------------------------------------------------\n",
      "2021-04-26 20:59:24,914 epoch 9 - iter 3/31 - loss 0.70053269 - samples/sec: 25.02 - lr: 0.100000\n",
      "2021-04-26 20:59:26,938 epoch 9 - iter 6/31 - loss 0.65075131 - samples/sec: 47.66 - lr: 0.100000\n",
      "2021-04-26 20:59:29,757 epoch 9 - iter 9/31 - loss 0.64947849 - samples/sec: 38.01 - lr: 0.100000\n",
      "2021-04-26 20:59:32,841 epoch 9 - iter 12/31 - loss 0.64972989 - samples/sec: 31.23 - lr: 0.100000\n",
      "2021-04-26 20:59:37,033 epoch 9 - iter 15/31 - loss 0.62858809 - samples/sec: 23.14 - lr: 0.100000\n",
      "2021-04-26 20:59:40,194 epoch 9 - iter 18/31 - loss 0.62640333 - samples/sec: 30.47 - lr: 0.100000\n",
      "2021-04-26 20:59:43,466 epoch 9 - iter 21/31 - loss 0.62872065 - samples/sec: 29.75 - lr: 0.100000\n",
      "2021-04-26 20:59:47,411 epoch 9 - iter 24/31 - loss 0.62374156 - samples/sec: 24.40 - lr: 0.100000\n",
      "2021-04-26 20:59:51,669 epoch 9 - iter 27/31 - loss 0.61612695 - samples/sec: 24.39 - lr: 0.100000\n",
      "2021-04-26 20:59:55,238 epoch 9 - iter 30/31 - loss 0.62069978 - samples/sec: 26.97 - lr: 0.100000\n",
      "2021-04-26 20:59:56,423 ----------------------------------------------------------------------------------------------------\n",
      "2021-04-26 20:59:56,424 EPOCH 9 done: loss 0.6221 - lr 0.1000000\n",
      "2021-04-26 21:00:04,562 TEST : loss 0.6336759328842163 - score 0.6789\n",
      "2021-04-26 21:00:04,760 BAD EPOCHS (no improvement): 1\n",
      "2021-04-26 21:00:04,762 ----------------------------------------------------------------------------------------------------\n",
      "2021-04-26 21:00:21,590 epoch 10 - iter 3/31 - loss 0.58633981 - samples/sec: 28.80 - lr: 0.100000\n",
      "2021-04-26 21:00:24,174 epoch 10 - iter 6/31 - loss 0.59101632 - samples/sec: 37.18 - lr: 0.100000\n",
      "2021-04-26 21:00:26,838 epoch 10 - iter 9/31 - loss 0.60511961 - samples/sec: 36.69 - lr: 0.100000\n",
      "2021-04-26 21:00:29,282 epoch 10 - iter 12/31 - loss 0.59906222 - samples/sec: 39.31 - lr: 0.100000\n",
      "2021-04-26 21:00:34,663 epoch 10 - iter 15/31 - loss 0.60129288 - samples/sec: 19.00 - lr: 0.100000\n",
      "2021-04-26 21:00:37,816 epoch 10 - iter 18/31 - loss 0.60647266 - samples/sec: 30.45 - lr: 0.100000\n",
      "2021-04-26 21:00:41,266 epoch 10 - iter 21/31 - loss 0.61259838 - samples/sec: 30.48 - lr: 0.100000\n",
      "2021-04-26 21:00:44,378 epoch 10 - iter 24/31 - loss 0.61038582 - samples/sec: 30.86 - lr: 0.100000\n",
      "2021-04-26 21:00:47,805 epoch 10 - iter 27/31 - loss 0.60573109 - samples/sec: 28.45 - lr: 0.100000\n",
      "2021-04-26 21:00:51,676 epoch 10 - iter 30/31 - loss 0.60961130 - samples/sec: 24.81 - lr: 0.100000\n",
      "2021-04-26 21:00:52,563 ----------------------------------------------------------------------------------------------------\n",
      "2021-04-26 21:00:52,564 EPOCH 10 done: loss 0.6110 - lr 0.1000000\n",
      "2021-04-26 21:00:59,926 TEST : loss 0.6333014965057373 - score 0.6606\n",
      "2021-04-26 21:01:00,123 BAD EPOCHS (no improvement): 0\n",
      "2021-04-26 21:01:03,624 ----------------------------------------------------------------------------------------------------\n",
      "2021-04-26 21:01:03,625 Testing using best model ...\n",
      "2021-04-26 21:01:11,215 \t0.6606\n",
      "2021-04-26 21:01:11,215 \n",
      "Results:\n",
      "- F-score (micro) 0.6606\n",
      "- F-score (macro) 0.3978\n",
      "- Accuracy 0.6606\n",
      "\n",
      "By class:\n",
      "              precision    recall  f1-score   support\n",
      "\n",
      "           0     0.6729    0.9730    0.7956        74\n",
      "           1     0.0000    0.0000    0.0000        35\n",
      "\n",
      "   micro avg     0.6606    0.6606    0.6606       109\n",
      "   macro avg     0.3364    0.4865    0.3978       109\n",
      "weighted avg     0.4568    0.6606    0.5401       109\n",
      " samples avg     0.6606    0.6606    0.6606       109\n",
      "\n",
      "2021-04-26 21:01:11,216 ----------------------------------------------------------------------------------------------------\n"
     ]
    },
    {
     "data": {
      "text/plain": [
       "{'test_score': 0.6606,\n",
       " 'dev_score_history': [],\n",
       " 'train_loss_history': [0.7040446804415795,\n",
       "  0.6426986398235444,\n",
       "  0.6450454265840592,\n",
       "  0.6420611316157926,\n",
       "  0.6235236698581327,\n",
       "  0.6296196022341328,\n",
       "  0.6209459497082618,\n",
       "  0.6186512968232555,\n",
       "  0.6220770526316858,\n",
       "  0.6110352191232866],\n",
       " 'dev_loss_history': []}"
      ]
     },
     "execution_count": 11,
     "metadata": {},
     "output_type": "execute_result"
    }
   ],
   "source": [
    "# 3. make a list of word embeddings\n",
    "word_embeddings = [WordEmbeddings('glove'), FlairEmbeddings('news-forward'), FlairEmbeddings('news-backward')]\n",
    "\n",
    "# 4. initialize document embedding by passing list of word embeddings\n",
    "document_embeddings = DocumentRNNEmbeddings(word_embeddings, hidden_size=256, bidirectional=True,rnn_type=\"LSTM\")\n",
    "\n",
    "# 5. create the text classifier\n",
    "classifier = TextClassifier(document_embeddings, label_dictionary=label_dict)\n",
    "\n",
    "# 6. initialize the text classifier trainer\n",
    "trainer = ModelTrainer(classifier, corpus)\n",
    "\n",
    "# 7. start the training\n",
    "trainer.train('./flair/bilstm_low',\n",
    "              learning_rate=0.1,\n",
    "              mini_batch_size=32,\n",
    "              anneal_factor=0.5,\n",
    "              train_with_dev=True,\n",
    "              patience=3,\n",
    "              max_epochs=10,\n",
    "              monitor_test=True,\n",
    "              embeddings_storage_mode='gpu')"
   ]
  },
  {
   "cell_type": "code",
   "execution_count": 12,
   "metadata": {},
   "outputs": [
    {
     "name": "stdout",
     "output_type": "stream",
     "text": [
      "2021-04-26 21:01:11,273 ----------------------------------------------------------------------------------------------------\n",
      "2021-04-26 21:01:11,274 WARNING: No F1 found for test split in this data.\n",
      "2021-04-26 21:01:11,275 Are you sure you want to plot F1 and not another value?\n",
      "2021-04-26 21:01:11,275 ----------------------------------------------------------------------------------------------------\n"
     ]
    },
    {
     "name": "stderr",
     "output_type": "stream",
     "text": [
      "No handles with labels found to put in legend.\n"
     ]
    },
    {
     "name": "stdout",
     "output_type": "stream",
     "text": [
      "Loss and F1 plots are saved in flair\\bilstm_low\\training.png\n"
     ]
    },
    {
     "data": {
      "image/png": "[encoded data removed]",
      "text/plain": [
       "<Figure size 1080x720 with 2 Axes>"
      ]
     },
     "metadata": {
      "needs_background": "light"
     },
     "output_type": "display_data"
    }
   ],
   "source": [
    "# visualize\n",
    "from flair.visual.training_curves import Plotter\n",
    "plotter = Plotter()\n",
    "plotter.plot_training_curves('./flair/bilstm_low/loss.tsv')\n",
    "\n",
    "#This generates PNG plots in the result folder."
   ]
  },
  {
   "cell_type": "code",
   "execution_count": 15,
   "metadata": {},
   "outputs": [
    {
     "data": {
      "text/html": [
       "<div>\n",
       "<style scoped>\n",
       "    .dataframe tbody tr th:only-of-type {\n",
       "        vertical-align: middle;\n",
       "    }\n",
       "\n",
       "    .dataframe tbody tr th {\n",
       "        vertical-align: top;\n",
       "    }\n",
       "\n",
       "    .dataframe thead th {\n",
       "        text-align: right;\n",
       "    }\n",
       "</style>\n",
       "<table border=\"1\" class=\"dataframe\">\n",
       "  <thead>\n",
       "    <tr style=\"text-align: right;\">\n",
       "      <th></th>\n",
       "      <th>Unnamed: 0</th>\n",
       "      <th>Response</th>\n",
       "      <th>LowConcrete</th>\n",
       "    </tr>\n",
       "  </thead>\n",
       "  <tbody>\n",
       "    <tr>\n",
       "      <th>0</th>\n",
       "      <td>1000</td>\n",
       "      <td>1. Phone old friends\\n2. Text, video call fami...</td>\n",
       "      <td>1</td>\n",
       "    </tr>\n",
       "    <tr>\n",
       "      <th>1</th>\n",
       "      <td>446</td>\n",
       "      <td>Getting back to my activities would be great. ...</td>\n",
       "      <td>0</td>\n",
       "    </tr>\n",
       "    <tr>\n",
       "      <th>2</th>\n",
       "      <td>608</td>\n",
       "      <td>I would make a list (mental or on paper) of wh...</td>\n",
       "      <td>0</td>\n",
       "    </tr>\n",
       "    <tr>\n",
       "      <th>3</th>\n",
       "      <td>457</td>\n",
       "      <td>Mostly I would paint and play/compose music wh...</td>\n",
       "      <td>1</td>\n",
       "    </tr>\n",
       "    <tr>\n",
       "      <th>4</th>\n",
       "      <td>149</td>\n",
       "      <td>Lately I have been feeling lonely ,, the steps...</td>\n",
       "      <td>0</td>\n",
       "    </tr>\n",
       "  </tbody>\n",
       "</table>\n",
       "</div>"
      ],
      "text/plain": [
       "   Unnamed: 0                                           Response  LowConcrete\n",
       "0        1000  1. Phone old friends\\n2. Text, video call fami...            1\n",
       "1         446  Getting back to my activities would be great. ...            0\n",
       "2         608  I would make a list (mental or on paper) of wh...            0\n",
       "3         457  Mostly I would paint and play/compose music wh...            1\n",
       "4         149  Lately I have been feeling lonely ,, the steps...            0"
      ]
     },
     "execution_count": 15,
     "metadata": {},
     "output_type": "execute_result"
    }
   ],
   "source": [
    "test_csv = pd.read_csv('../data/corpuslow_13042021/test.csv')\n",
    "test_csv.head()"
   ]
  },
  {
   "cell_type": "code",
   "execution_count": 22,
   "metadata": {},
   "outputs": [],
   "source": [
    "from flair.data import Sentence\n",
    "\n",
    "test_data = []\n",
    "target = []\n",
    "preds = []\n",
    "\n",
    "for i, item in test_csv.iterrows():\n",
    "    test_data.append(Sentence(item.Response))\n",
    "    target.append(str(item.LowConcrete))\n",
    "    \n",
    "classifier.predict(test_data, mini_batch_size=4)\n",
    "\n",
    "for item in test_data:\n",
    "    preds.append(item.labels[0].value)"
   ]
  },
  {
   "cell_type": "code",
   "execution_count": 27,
   "metadata": {},
   "outputs": [
    {
     "name": "stderr",
     "output_type": "stream",
     "text": [
      "C:\\Users\\magab\\AppData\\Roaming\\Python\\Python38\\site-packages\\sklearn\\utils\\validation.py:70: FutureWarning: Pass labels=['1', '0'] as keyword args. From version 1.0 (renaming of 0.25) passing these as positional arguments will result in an error\n",
      "  warnings.warn(f\"Pass {args_msg} as keyword args. From version \"\n"
     ]
    },
    {
     "data": {
      "text/plain": [
       "[Text(0, 0.5, '1'), Text(0, 1.5, '0')]"
      ]
     },
     "execution_count": 27,
     "metadata": {},
     "output_type": "execute_result"
    },
    {
     "data": {
      "image/png": "[encoded data removed]",
      "text/plain": [
       "<Figure size 432x288 with 2 Axes>"
      ]
     },
     "metadata": {
      "needs_background": "light"
     },
     "output_type": "display_data"
    }
   ],
   "source": [
    "from sklearn.metrics import confusion_matrix\n",
    "import matplotlib.pyplot as plt\n",
    "import seaborn as sns\n",
    "\n",
    "labels = ['1', '0']\n",
    "cm = confusion_matrix(target, preds, labels)\n",
    "\n",
    "ax= plt.subplot()\n",
    "sns.heatmap(cm, annot=True, fmt='g', ax=ax);  #annot=True to annotate cells, ftm='g' to disable scientific notation\n",
    "\n",
    "ax.set_xlabel('Predicted')\n",
    "ax.set_ylabel('True')\n",
    "ax.set_title('Confusion Matrix')\n",
    "ax.xaxis.set_ticklabels(labels)\n",
    "ax.yaxis.set_ticklabels(labels)"
   ]
  },
  {
   "cell_type": "code",
   "execution_count": null,
   "metadata": {},
   "outputs": [],
   "source": [
    "from sklearn.metrics import classification_matrix\n",
    "\n",
    "print(classification_matrix(target,preds))"
   ]
  },
  {
   "cell_type": "code",
   "execution_count": null,
   "metadata": {},
   "outputs": [],
   "source": []
  }
 ],
 "metadata": {
  "kernelspec": {
   "display_name": "Python 3",
   "language": "python",
   "name": "python3"
  },
  "language_info": {
   "codemirror_mode": {
    "name": "ipython",
    "version": 3
   },
   "file_extension": ".py",
   "mimetype": "text/x-python",
   "name": "python",
   "nbconvert_exporter": "python",
   "pygments_lexer": "ipython3",
   "version": "3.8.8"
  }
 },
 "nbformat": 4,
 "nbformat_minor": 4
}
