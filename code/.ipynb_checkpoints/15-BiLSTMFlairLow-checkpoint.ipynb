{
 "cells": [
  {
   "cell_type": "markdown",
   "metadata": {},
   "source": [
    "Main resource: https://github.com/flairNLP/flair/blob/master/resources/docs/TUTORIAL_7_TRAINING_A_MODEL.md"
   ]
  },
  {
   "cell_type": "code",
   "execution_count": 1,
   "metadata": {},
   "outputs": [
    {
     "name": "stdout",
     "output_type": "stream",
     "text": [
      "cuda\n"
     ]
    }
   ],
   "source": [
    "import flair\n",
    "import numpy as np\n",
    "import pandas as pd\n",
    "import torch\n",
    "\n",
    "device = torch.device(\"cuda\" if torch.cuda.is_available() else \"cpu\")\n",
    "flair.device = device\n",
    "\n",
    "print(flair.device)"
   ]
  },
  {
   "cell_type": "code",
   "execution_count": 2,
   "metadata": {},
   "outputs": [
    {
     "name": "stdout",
     "output_type": "stream",
     "text": [
      "1.7.1+cu110\n"
     ]
    }
   ],
   "source": [
    "print(torch.__version__)"
   ]
  },
  {
   "cell_type": "code",
   "execution_count": 3,
   "metadata": {},
   "outputs": [
    {
     "name": "stdout",
     "output_type": "stream",
     "text": [
      "2021-04-17 14:06:04,922 Reading data from ..\\data\\corpuslow_13042021\n",
      "2021-04-17 14:06:04,968 Train: ..\\data\\corpuslow_13042021\\train.csv\n",
      "2021-04-17 14:06:04,969 Dev: ..\\data\\corpuslow_13042021\\dev.csv\n",
      "2021-04-17 14:06:04,969 Test: ..\\data\\corpuslow_13042021\\test.csv\n",
      "2021-04-17 14:06:05,001 Computing label dictionary. Progress:\n"
     ]
    },
    {
     "name": "stderr",
     "output_type": "stream",
     "text": [
      "100%|███████████████████████████████████████| 976/976 [00:01<00:00, 887.29it/s]"
     ]
    },
    {
     "name": "stdout",
     "output_type": "stream",
     "text": [
      "2021-04-17 14:06:23,247 [b'0', b'1']\n",
      "Dictionary with 2 tags: 0, 1\n"
     ]
    },
    {
     "name": "stderr",
     "output_type": "stream",
     "text": [
      "\n"
     ]
    }
   ],
   "source": [
    "from flair.data import Corpus\n",
    "from flair.datasets import CSVClassificationCorpus\n",
    "from flair.embeddings import WordEmbeddings, FlairEmbeddings, StackedEmbeddings, DocumentRNNEmbeddings\n",
    "from flair.models import TextClassifier\n",
    "from flair.trainers import ModelTrainer\n",
    "\n",
    "data_folder = '../data/corpuslow_13042021'\n",
    "column_name_map = {1: \"text\", 2: \"label_topic\"}\n",
    "\n",
    "# 1. get the corpus\n",
    "corpus: Corpus = CSVClassificationCorpus(data_folder,\n",
    "                                         column_name_map,\n",
    "                                         skip_header=True) \n",
    "\n",
    "# 2. create the label dictionary\n",
    "label_dict = corpus.make_label_dictionary()\n",
    "\n",
    "print(label_dict)"
   ]
  },
  {
   "cell_type": "code",
   "execution_count": 4,
   "metadata": {},
   "outputs": [
    {
     "name": "stdout",
     "output_type": "stream",
     "text": [
      "2021-04-17 14:06:34,611 ----------------------------------------------------------------------------------------------------\n",
      "2021-04-17 14:06:34,612 Model: \"TextClassifier(\n",
      "  (document_embeddings): DocumentRNNEmbeddings(\n",
      "    (embeddings): StackedEmbeddings(\n",
      "      (list_embedding_0): WordEmbeddings('glove')\n",
      "      (list_embedding_1): FlairEmbeddings(\n",
      "        (lm): LanguageModel(\n",
      "          (drop): Dropout(p=0.05, inplace=False)\n",
      "          (encoder): Embedding(300, 100)\n",
      "          (rnn): LSTM(100, 2048)\n",
      "          (decoder): Linear(in_features=2048, out_features=300, bias=True)\n",
      "        )\n",
      "      )\n",
      "      (list_embedding_2): FlairEmbeddings(\n",
      "        (lm): LanguageModel(\n",
      "          (drop): Dropout(p=0.05, inplace=False)\n",
      "          (encoder): Embedding(300, 100)\n",
      "          (rnn): LSTM(100, 2048)\n",
      "          (decoder): Linear(in_features=2048, out_features=300, bias=True)\n",
      "        )\n",
      "      )\n",
      "    )\n",
      "    (word_reprojection_map): Linear(in_features=4196, out_features=4196, bias=True)\n",
      "    (rnn): LSTM(4196, 256, batch_first=True, bidirectional=True)\n",
      "    (dropout): Dropout(p=0.5, inplace=False)\n",
      "  )\n",
      "  (decoder): Linear(in_features=1024, out_features=2, bias=True)\n",
      "  (loss_function): CrossEntropyLoss()\n",
      "  (beta): 1.0\n",
      "  (weights): None\n",
      "  (weight_tensor) None\n",
      ")\"\n",
      "2021-04-17 14:06:34,613 ----------------------------------------------------------------------------------------------------\n",
      "2021-04-17 14:06:34,614 Corpus: \"Corpus: 867 train + 108 dev + 109 test sentences\"\n",
      "2021-04-17 14:06:34,614 ----------------------------------------------------------------------------------------------------\n",
      "2021-04-17 14:06:34,615 Parameters:\n",
      "2021-04-17 14:06:34,616  - learning_rate: \"0.1\"\n",
      "2021-04-17 14:06:34,617  - mini_batch_size: \"32\"\n",
      "2021-04-17 14:06:34,617  - patience: \"5\"\n",
      "2021-04-17 14:06:34,618  - anneal_factor: \"0.5\"\n",
      "2021-04-17 14:06:34,618  - max_epochs: \"5\"\n",
      "2021-04-17 14:06:34,619  - shuffle: \"True\"\n",
      "2021-04-17 14:06:34,620  - train_with_dev: \"False\"\n",
      "2021-04-17 14:06:34,620  - batch_growth_annealing: \"False\"\n",
      "2021-04-17 14:06:34,621 ----------------------------------------------------------------------------------------------------\n",
      "2021-04-17 14:06:34,622 Model training base path: \"flair\"\n",
      "2021-04-17 14:06:34,622 ----------------------------------------------------------------------------------------------------\n",
      "2021-04-17 14:06:34,623 Device: cuda\n",
      "2021-04-17 14:06:34,623 ----------------------------------------------------------------------------------------------------\n",
      "2021-04-17 14:06:34,624 Embeddings storage mode: cpu\n",
      "2021-04-17 14:06:34,626 ----------------------------------------------------------------------------------------------------\n",
      "2021-04-17 14:06:50,730 epoch 1 - iter 2/28 - loss 0.74090794 - samples/sec: 23.65 - lr: 0.100000\n",
      "2021-04-17 14:06:53,140 epoch 1 - iter 4/28 - loss 0.76700115 - samples/sec: 26.56 - lr: 0.100000\n",
      "2021-04-17 14:06:56,299 epoch 1 - iter 6/28 - loss 0.79133593 - samples/sec: 22.22 - lr: 0.100000\n",
      "2021-04-17 14:06:59,697 epoch 1 - iter 8/28 - loss 0.76806752 - samples/sec: 19.06 - lr: 0.100000\n",
      "2021-04-17 14:07:02,206 epoch 1 - iter 10/28 - loss 0.75081365 - samples/sec: 25.52 - lr: 0.100000\n",
      "2021-04-17 14:07:06,943 epoch 1 - iter 12/28 - loss 0.74173310 - samples/sec: 14.88 - lr: 0.100000\n",
      "2021-04-17 14:07:11,269 epoch 1 - iter 14/28 - loss 0.73960022 - samples/sec: 14.95 - lr: 0.100000\n",
      "2021-04-17 14:07:13,980 epoch 1 - iter 16/28 - loss 0.73020727 - samples/sec: 23.62 - lr: 0.100000\n",
      "2021-04-17 14:07:18,083 epoch 1 - iter 18/28 - loss 0.73535282 - samples/sec: 15.64 - lr: 0.100000\n",
      "2021-04-17 14:07:22,502 epoch 1 - iter 20/28 - loss 0.72478627 - samples/sec: 14.62 - lr: 0.100000\n",
      "2021-04-17 14:07:25,485 epoch 1 - iter 22/28 - loss 0.72203653 - samples/sec: 21.46 - lr: 0.100000\n",
      "2021-04-17 14:07:28,198 epoch 1 - iter 24/28 - loss 0.71406167 - samples/sec: 23.68 - lr: 0.100000\n",
      "2021-04-17 14:07:32,433 epoch 1 - iter 26/28 - loss 0.71479503 - samples/sec: 15.20 - lr: 0.100000\n",
      "2021-04-17 14:07:35,331 epoch 1 - iter 28/28 - loss 0.70417225 - samples/sec: 22.10 - lr: 0.100000\n",
      "2021-04-17 14:07:35,703 ----------------------------------------------------------------------------------------------------\n",
      "2021-04-17 14:07:35,704 EPOCH 1 done: loss 0.7042 - lr 0.1000000\n",
      "2021-04-17 14:07:44,823 DEV : loss 0.8965303897857666 - score 0.6759\n",
      "2021-04-17 14:07:45,233 BAD EPOCHS (no improvement): 0\n",
      "saving best model\n",
      "2021-04-17 14:07:48,579 ----------------------------------------------------------------------------------------------------\n",
      "2021-04-17 14:08:06,042 epoch 2 - iter 2/28 - loss 0.74338490 - samples/sec: 16.82 - lr: 0.100000\n",
      "2021-04-17 14:08:09,590 epoch 2 - iter 4/28 - loss 0.70729245 - samples/sec: 18.10 - lr: 0.100000\n",
      "2021-04-17 14:08:12,901 epoch 2 - iter 6/28 - loss 0.67626200 - samples/sec: 19.34 - lr: 0.100000\n",
      "2021-04-17 14:08:15,445 epoch 2 - iter 8/28 - loss 0.65298862 - samples/sec: 25.56 - lr: 0.100000\n",
      "2021-04-17 14:08:19,468 epoch 2 - iter 10/28 - loss 0.65955377 - samples/sec: 15.95 - lr: 0.100000\n",
      "2021-04-17 14:08:23,043 epoch 2 - iter 12/28 - loss 0.66512083 - samples/sec: 17.90 - lr: 0.100000\n",
      "2021-04-17 14:08:26,412 epoch 2 - iter 14/28 - loss 0.66639544 - samples/sec: 19.23 - lr: 0.100000\n",
      "2021-04-17 14:08:31,456 epoch 2 - iter 16/28 - loss 0.66541244 - samples/sec: 12.73 - lr: 0.100000\n",
      "2021-04-17 14:08:34,212 epoch 2 - iter 18/28 - loss 0.66419806 - samples/sec: 23.22 - lr: 0.100000\n",
      "2021-04-17 14:08:36,532 epoch 2 - iter 20/28 - loss 0.67943965 - samples/sec: 28.10 - lr: 0.100000\n",
      "2021-04-17 14:08:40,019 epoch 2 - iter 22/28 - loss 0.67151242 - samples/sec: 21.02 - lr: 0.100000\n",
      "2021-04-17 14:08:43,498 epoch 2 - iter 24/28 - loss 0.66662634 - samples/sec: 18.40 - lr: 0.100000\n",
      "2021-04-17 14:08:46,000 epoch 2 - iter 26/28 - loss 0.66264087 - samples/sec: 25.81 - lr: 0.100000\n",
      "2021-04-17 14:08:47,891 epoch 2 - iter 28/28 - loss 0.66272279 - samples/sec: 33.91 - lr: 0.100000\n",
      "2021-04-17 14:08:48,261 ----------------------------------------------------------------------------------------------------\n",
      "2021-04-17 14:08:48,261 EPOCH 2 done: loss 0.6627 - lr 0.1000000\n",
      "2021-04-17 14:08:57,786 DEV : loss 0.6289856433868408 - score 0.6759\n",
      "2021-04-17 14:08:58,207 BAD EPOCHS (no improvement): 0\n",
      "saving best model\n",
      "2021-04-17 14:09:01,515 ----------------------------------------------------------------------------------------------------\n",
      "2021-04-17 14:09:18,244 epoch 3 - iter 2/28 - loss 0.63616607 - samples/sec: 18.49 - lr: 0.100000\n",
      "2021-04-17 14:09:21,006 epoch 3 - iter 4/28 - loss 0.63996647 - samples/sec: 23.17 - lr: 0.100000\n",
      "2021-04-17 14:09:24,114 epoch 3 - iter 6/28 - loss 0.61751586 - samples/sec: 20.66 - lr: 0.100000\n",
      "2021-04-17 14:09:27,211 epoch 3 - iter 8/28 - loss 0.61548824 - samples/sec: 24.02 - lr: 0.100000\n",
      "2021-04-17 14:09:30,697 epoch 3 - iter 10/28 - loss 0.63291651 - samples/sec: 18.37 - lr: 0.100000\n",
      "2021-04-17 14:09:33,142 epoch 3 - iter 12/28 - loss 0.62220556 - samples/sec: 26.27 - lr: 0.100000\n",
      "2021-04-17 14:09:36,845 epoch 3 - iter 14/28 - loss 0.62433425 - samples/sec: 20.11 - lr: 0.100000\n",
      "2021-04-17 14:09:39,694 epoch 3 - iter 16/28 - loss 0.62625203 - samples/sec: 22.47 - lr: 0.100000\n",
      "2021-04-17 14:09:43,224 epoch 3 - iter 18/28 - loss 0.62207358 - samples/sec: 18.18 - lr: 0.100000\n",
      "2021-04-17 14:09:46,912 epoch 3 - iter 20/28 - loss 0.63949306 - samples/sec: 20.11 - lr: 0.100000\n",
      "2021-04-17 14:09:51,030 epoch 3 - iter 22/28 - loss 0.64132170 - samples/sec: 15.55 - lr: 0.100000\n",
      "2021-04-17 14:09:54,926 epoch 3 - iter 24/28 - loss 0.63866284 - samples/sec: 16.47 - lr: 0.100000\n",
      "2021-04-17 14:09:59,513 epoch 3 - iter 26/28 - loss 0.64214760 - samples/sec: 15.73 - lr: 0.100000\n",
      "2021-04-17 14:10:01,462 epoch 3 - iter 28/28 - loss 0.64825726 - samples/sec: 32.85 - lr: 0.100000\n",
      "2021-04-17 14:10:01,832 ----------------------------------------------------------------------------------------------------\n",
      "2021-04-17 14:10:01,833 EPOCH 3 done: loss 0.6483 - lr 0.1000000\n",
      "2021-04-17 14:10:10,723 DEV : loss 0.6325303316116333 - score 0.6759\n",
      "2021-04-17 14:10:11,150 BAD EPOCHS (no improvement): 1\n",
      "2021-04-17 14:10:11,151 ----------------------------------------------------------------------------------------------------\n",
      "2021-04-17 14:10:27,380 epoch 4 - iter 2/28 - loss 0.67811087 - samples/sec: 20.93 - lr: 0.100000\n",
      "2021-04-17 14:10:30,813 epoch 4 - iter 4/28 - loss 0.65501854 - samples/sec: 18.64 - lr: 0.100000\n",
      "2021-04-17 14:10:33,876 epoch 4 - iter 6/28 - loss 0.65189571 - samples/sec: 20.90 - lr: 0.100000\n",
      "2021-04-17 14:10:36,459 epoch 4 - iter 8/28 - loss 0.62396101 - samples/sec: 25.30 - lr: 0.100000\n",
      "2021-04-17 14:10:40,103 epoch 4 - iter 10/28 - loss 0.62881692 - samples/sec: 17.57 - lr: 0.100000\n",
      "2021-04-17 14:10:44,231 epoch 4 - iter 12/28 - loss 0.63235545 - samples/sec: 15.51 - lr: 0.100000\n",
      "2021-04-17 14:10:48,334 epoch 4 - iter 14/28 - loss 0.62661502 - samples/sec: 17.74 - lr: 0.100000\n",
      "2021-04-17 14:10:50,633 epoch 4 - iter 16/28 - loss 0.62377246 - samples/sec: 27.84 - lr: 0.100000\n",
      "2021-04-17 14:10:53,744 epoch 4 - iter 18/28 - loss 0.63093569 - samples/sec: 20.58 - lr: 0.100000\n",
      "2021-04-17 14:10:56,332 epoch 4 - iter 20/28 - loss 0.63852165 - samples/sec: 25.24 - lr: 0.100000\n",
      "2021-04-17 14:10:58,944 epoch 4 - iter 22/28 - loss 0.64523726 - samples/sec: 24.50 - lr: 0.100000\n",
      "2021-04-17 14:11:02,731 epoch 4 - iter 24/28 - loss 0.65014068 - samples/sec: 16.91 - lr: 0.100000\n",
      "2021-04-17 14:11:05,968 epoch 4 - iter 26/28 - loss 0.64300701 - samples/sec: 19.96 - lr: 0.100000\n",
      "2021-04-17 14:11:07,202 epoch 4 - iter 28/28 - loss 0.63705614 - samples/sec: 51.87 - lr: 0.100000\n",
      "2021-04-17 14:11:07,577 ----------------------------------------------------------------------------------------------------\n",
      "2021-04-17 14:11:07,578 EPOCH 4 done: loss 0.6371 - lr 0.1000000\n",
      "2021-04-17 14:11:16,943 DEV : loss 0.667435348033905 - score 0.6759\n",
      "2021-04-17 14:11:17,358 BAD EPOCHS (no improvement): 2\n",
      "2021-04-17 14:11:17,359 ----------------------------------------------------------------------------------------------------\n",
      "2021-04-17 14:11:33,805 epoch 5 - iter 2/28 - loss 0.71777773 - samples/sec: 17.98 - lr: 0.100000\n",
      "2021-04-17 14:11:37,733 epoch 5 - iter 4/28 - loss 0.64930431 - samples/sec: 16.30 - lr: 0.100000\n",
      "2021-04-17 14:11:40,423 epoch 5 - iter 6/28 - loss 0.61274380 - samples/sec: 23.80 - lr: 0.100000\n",
      "2021-04-17 14:11:43,126 epoch 5 - iter 8/28 - loss 0.63273522 - samples/sec: 24.12 - lr: 0.100000\n",
      "2021-04-17 14:11:45,693 epoch 5 - iter 10/28 - loss 0.62597000 - samples/sec: 24.94 - lr: 0.100000\n",
      "2021-04-17 14:11:49,270 epoch 5 - iter 12/28 - loss 0.63122393 - samples/sec: 17.89 - lr: 0.100000\n",
      "2021-04-17 14:11:51,590 epoch 5 - iter 14/28 - loss 0.63592626 - samples/sec: 28.18 - lr: 0.100000\n",
      "2021-04-17 14:11:54,687 epoch 5 - iter 16/28 - loss 0.63136690 - samples/sec: 20.69 - lr: 0.100000\n",
      "2021-04-17 14:11:57,456 epoch 5 - iter 18/28 - loss 0.62949120 - samples/sec: 23.11 - lr: 0.100000\n",
      "2021-04-17 14:12:01,617 epoch 5 - iter 20/28 - loss 0.62423287 - samples/sec: 15.59 - lr: 0.100000\n",
      "2021-04-17 14:12:05,984 epoch 5 - iter 22/28 - loss 0.64017749 - samples/sec: 14.66 - lr: 0.100000\n",
      "2021-04-17 14:12:08,711 epoch 5 - iter 24/28 - loss 0.64351731 - samples/sec: 23.48 - lr: 0.100000\n",
      "2021-04-17 14:12:11,664 epoch 5 - iter 26/28 - loss 0.64021580 - samples/sec: 21.88 - lr: 0.100000\n",
      "2021-04-17 14:12:13,752 epoch 5 - iter 28/28 - loss 0.62948493 - samples/sec: 30.67 - lr: 0.100000\n",
      "2021-04-17 14:12:14,150 ----------------------------------------------------------------------------------------------------\n",
      "2021-04-17 14:12:14,151 EPOCH 5 done: loss 0.6295 - lr 0.1000000\n",
      "2021-04-17 14:12:23,233 DEV : loss 0.7137273550033569 - score 0.6759\n",
      "2021-04-17 14:12:23,654 BAD EPOCHS (no improvement): 3\n",
      "2021-04-17 14:12:26,950 ----------------------------------------------------------------------------------------------------\n",
      "2021-04-17 14:12:26,950 Testing using best model ...\n",
      "2021-04-17 14:12:26,951 loading file flair\\best-model.pt\n",
      "2021-04-17 14:12:35,600 \t0.6789\n",
      "2021-04-17 14:12:35,601 \n",
      "Results:\n",
      "- F-score (micro) 0.6789\n",
      "- F-score (macro) 0.4044\n",
      "- Accuracy 0.6789\n",
      "\n",
      "By class:\n",
      "              precision    recall  f1-score   support\n",
      "\n",
      "           0     0.6789    1.0000    0.8087        74\n",
      "           1     0.0000    0.0000    0.0000        35\n",
      "\n",
      "   micro avg     0.6789    0.6789    0.6789       109\n",
      "   macro avg     0.3394    0.5000    0.4044       109\n",
      "weighted avg     0.4609    0.6789    0.5491       109\n",
      " samples avg     0.6789    0.6789    0.6789       109\n",
      "\n",
      "2021-04-17 14:12:35,602 ----------------------------------------------------------------------------------------------------\n"
     ]
    },
    {
     "data": {
      "text/plain": [
       "{'test_score': 0.6789,\n",
       " 'dev_score_history': [0.6759, 0.6759, 0.6759, 0.6759, 0.6759],\n",
       " 'train_loss_history': [0.7041722525443349,\n",
       "  0.662722786622388,\n",
       "  0.6482572640691485,\n",
       "  0.6370561399630138,\n",
       "  0.6294849312731198],\n",
       " 'dev_loss_history': [0.8965303897857666,\n",
       "  0.6289856433868408,\n",
       "  0.6325303316116333,\n",
       "  0.667435348033905,\n",
       "  0.7137273550033569]}"
      ]
     },
     "execution_count": 4,
     "metadata": {},
     "output_type": "execute_result"
    }
   ],
   "source": [
    "# 3. make a list of word embeddings\n",
    "word_embeddings = [WordEmbeddings('glove'), FlairEmbeddings('news-forward'), FlairEmbeddings('news-backward')]\n",
    "\n",
    "# 4. initialize document embedding by passing list of word embeddings\n",
    "document_embeddings = DocumentRNNEmbeddings(word_embeddings, hidden_size=256, bidirectional=True,rnn_type=\"LSTM\")\n",
    "\n",
    "# 5. create the text classifier\n",
    "classifier = TextClassifier(document_embeddings, label_dictionary=label_dict)\n",
    "\n",
    "# 6. initialize the text classifier trainer\n",
    "trainer = ModelTrainer(classifier, corpus)\n",
    "\n",
    "# 7. start the training\n",
    "trainer.train('./flair/bilstm_low',\n",
    "              learning_rate=0.1,\n",
    "              mini_batch_size=32,\n",
    "              anneal_factor=0.5,\n",
    "              patience=5,\n",
    "              max_epochs=5)"
   ]
  },
  {
   "cell_type": "code",
   "execution_count": null,
   "metadata": {},
   "outputs": [],
   "source": []
  }
 ],
 "metadata": {
  "kernelspec": {
   "display_name": "Python 3",
   "language": "python",
   "name": "python3"
  },
  "language_info": {
   "codemirror_mode": {
    "name": "ipython",
    "version": 3
   },
   "file_extension": ".py",
   "mimetype": "text/x-python",
   "name": "python",
   "nbconvert_exporter": "python",
   "pygments_lexer": "ipython3",
   "version": "3.8.8"
  }
 },
 "nbformat": 4,
 "nbformat_minor": 4
}
